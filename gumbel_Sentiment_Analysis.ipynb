{
  "nbformat": 4,
  "nbformat_minor": 0,
  "metadata": {
    "kernelspec": {
      "name": "python3",
      "display_name": "Python 3"
    },
    "language_info": {
      "codemirror_mode": {
        "name": "ipython",
        "version": 3
      },
      "file_extension": ".py",
      "mimetype": "text/x-python",
      "name": "python",
      "nbconvert_exporter": "python",
      "pygments_lexer": "ipython3",
      "version": "3.7.0"
    },
    "colab": {
      "name": "gumbel Sentiment Analysis.ipynb",
      "provenance": [],
      "collapsed_sections": [],
      "include_colab_link": true
    },
    "accelerator": "GPU"
  },
  "cells": [
    {
      "cell_type": "markdown",
      "metadata": {
        "id": "view-in-github",
        "colab_type": "text"
      },
      "source": [
        "<a href=\"https://colab.research.google.com/github/Dianna22/pytorch-sentiment-analysis/blob/master/gumbel_Sentiment_Analysis.ipynb\" target=\"_parent\"><img src=\"https://colab.research.google.com/assets/colab-badge.svg\" alt=\"Open In Colab\"/></a>"
      ]
    },
    {
      "cell_type": "markdown",
      "metadata": {
        "id": "6f9NRrvlbZ68",
        "colab_type": "text"
      },
      "source": [
        "# 2 - Updated Sentiment Analysis\n",
        "\n",
        "In the previous notebook, we got the fundamentals down for sentiment analysis. In this notebook, we'll actually get decent results.\n",
        "\n",
        "We will use:\n",
        "- packed padded sequences\n",
        "- pre-trained word embeddings\n",
        "- different RNN architecture\n",
        "- bidirectional RNN\n",
        "- multi-layer RNN\n",
        "- regularization\n",
        "- a different optimizer\n",
        "\n",
        "This will allow us to achieve ~84% test accuracy."
      ]
    },
    {
      "cell_type": "markdown",
      "metadata": {
        "id": "9rOHKVbMbZ6-",
        "colab_type": "text"
      },
      "source": [
        "## Preparing Data\n",
        "\n",
        "As before, we'll set the seed, define the `Fields` and get the train/valid/test splits.\n",
        "\n",
        "We'll be using *packed padded sequences*, which will make our RNN only process the non-padded elements of our sequence, and for any padded element the `output` will be a zero tensor. To use packed padded sequences, we have to tell the RNN how long the actual sequences are. We do this by setting `include_lengths = True` for our `TEXT` field. This will cause `batch.text` to now be a tuple with the first element being our sentence (a numericalized tensor that has been padded) and the second element being the actual lengths of our sentences."
      ]
    },
    {
      "cell_type": "code",
      "metadata": {
        "id": "FlduADmvbZ6_",
        "colab_type": "code",
        "colab": {}
      },
      "source": [
        "import torch\n",
        "from torchtext import data\n",
        "from torchtext import datasets\n",
        "\n",
        "SEED = 1234\n",
        "\n",
        "torch.manual_seed(SEED)\n",
        "torch.backends.cudnn.deterministic = True\n",
        "\n",
        "TEXT = data.Field(tokenize = 'spacy', include_lengths = True)\n",
        "LABEL = data.LabelField(dtype = torch.float)"
      ],
      "execution_count": 0,
      "outputs": []
    },
    {
      "cell_type": "markdown",
      "metadata": {
        "id": "nxSqXw42bZ7L",
        "colab_type": "text"
      },
      "source": [
        "We then load the IMDb dataset."
      ]
    },
    {
      "cell_type": "code",
      "metadata": {
        "id": "HbFb5cdNbZ7L",
        "colab_type": "code",
        "colab": {}
      },
      "source": [
        "from torchtext import datasets\n",
        "\n",
        "train_data, test_data = datasets.IMDB.splits(TEXT, LABEL)"
      ],
      "execution_count": 0,
      "outputs": []
    },
    {
      "cell_type": "markdown",
      "metadata": {
        "id": "fL1eboO3bZ7O",
        "colab_type": "text"
      },
      "source": [
        "Then create the validation set from our training set."
      ]
    },
    {
      "cell_type": "code",
      "metadata": {
        "id": "u47nWb9wbZ7O",
        "colab_type": "code",
        "colab": {}
      },
      "source": [
        "import random\n",
        "\n",
        "train_data, valid_data = train_data.split(random_state = random.seed(SEED))"
      ],
      "execution_count": 0,
      "outputs": []
    },
    {
      "cell_type": "markdown",
      "metadata": {
        "id": "wIyXrJPMbZ7Q",
        "colab_type": "text"
      },
      "source": [
        "Next is the use of pre-trained word embeddings. Now, instead of having our word embeddings initialized randomly, they are initialized with these pre-trained vectors.\n",
        "We get these vectors simply by specifying which vectors we want and passing it as an argument to `build_vocab`. `TorchText` handles downloading the vectors and associating them with the correct words in our vocabulary.\n",
        "\n",
        "Here, we'll be using the `\"glove.6B.100d\" vectors\"`. `glove` is the algorithm used to calculate the vectors, go [here](https://nlp.stanford.edu/projects/glove/) for more. `6B` indicates these vectors were trained on 6 billion tokens and `100d` indicates these vectors are 100-dimensional.\n",
        "\n",
        "You can see the other available vectors [here](https://github.com/pytorch/text/blob/master/torchtext/vocab.py#L113).\n",
        "\n",
        "The theory is that these pre-trained vectors already have words with similar semantic meaning close together in vector space, e.g. \"terrible\", \"awful\", \"dreadful\" are nearby. This gives our embedding layer a good initialization as it does not have to learn these relations from scratch.\n",
        "\n",
        "**Note**: these vectors are about 862MB, so watch out if you have a limited internet connection.\n",
        "\n",
        "By default, TorchText will initialize words in your vocabulary but not in your pre-trained embeddings to zero. We don't want this, and instead initialize them randomly by setting `unk_init` to `torch.Tensor.normal_`. This will now initialize those words via a Gaussian distribution."
      ]
    },
    {
      "cell_type": "code",
      "metadata": {
        "id": "pIpdt5oLbZ7R",
        "colab_type": "code",
        "colab": {}
      },
      "source": [
        "MAX_VOCAB_SIZE = 25_000\n",
        "\n",
        "TEXT.build_vocab(train_data, \n",
        "                 max_size = MAX_VOCAB_SIZE, \n",
        "                 vectors = \"glove.6B.300d\", \n",
        "                 unk_init = torch.Tensor.normal_)\n",
        "\n",
        "LABEL.build_vocab(train_data)"
      ],
      "execution_count": 0,
      "outputs": []
    },
    {
      "cell_type": "code",
      "metadata": {
        "id": "5K6EuHp669Ju",
        "colab_type": "code",
        "colab": {}
      },
      "source": [
        ""
      ],
      "execution_count": 0,
      "outputs": []
    },
    {
      "cell_type": "markdown",
      "metadata": {
        "id": "xQZoAp1JbZ7T",
        "colab_type": "text"
      },
      "source": [
        "As before, we create the iterators, placing the tensors on the GPU if one is available.\n",
        "\n",
        "Another thing for packed padded sequences all of the tensors within a batch need to be sorted by their lengths. This is handled in the iterator by setting `sort_within_batch = True`."
      ]
    },
    {
      "cell_type": "code",
      "metadata": {
        "id": "y_qmC_-6bZ7U",
        "colab_type": "code",
        "colab": {}
      },
      "source": [
        "BATCH_SIZE = 64\n",
        "\n",
        "device = torch.device('cuda' if torch.cuda.is_available() else 'cpu')\n",
        "\n",
        "train_iterator, valid_iterator, test_iterator = data.BucketIterator.splits(\n",
        "    (train_data, valid_data, test_data), \n",
        "    batch_size = BATCH_SIZE,\n",
        "    sort_within_batch = True,\n",
        "    device = device)"
      ],
      "execution_count": 0,
      "outputs": []
    },
    {
      "cell_type": "code",
      "metadata": {
        "id": "KQFAFgrG8NYr",
        "colab_type": "code",
        "colab": {}
      },
      "source": [
        ""
      ],
      "execution_count": 0,
      "outputs": []
    },
    {
      "cell_type": "markdown",
      "metadata": {
        "id": "jeGETNoabZ7W",
        "colab_type": "text"
      },
      "source": [
        "## Build the Model\n",
        "\n",
        "The model features the most drastic changes.\n",
        "\n",
        "### Different RNN Architecture\n",
        "\n",
        "We'll be using a different RNN architecture called a Long Short-Term Memory (LSTM). Why is an LSTM better than a standard RNN? Standard RNNs suffer from the [vanishing gradient problem](https://en.wikipedia.org/wiki/Vanishing_gradient_problem). LSTMs overcome this by having an extra recurrent state called a _cell_, $c$ - which can be thought of as the \"memory\" of the LSTM - and the use use multiple _gates_ which control the flow of information into and out of the memory. For more information, go [here](https://colah.github.io/posts/2015-08-Understanding-LSTMs/). We can simply think of the LSTM as a function of $x_t$, $h_t$ and $c_t$, instead of just $x_t$ and $h_t$.\n",
        "\n",
        "$$(h_t, c_t) = \\text{LSTM}(x_t, h_t, c_t)$$\n",
        "\n",
        "Thus, the model using an LSTM looks something like (with the embedding layers omitted):\n",
        "\n",
        "![](https://github.com/Dianna22/pytorch-sentiment-analysis/blob/master/assets/sentiment2.png?raw=1)\n",
        "\n",
        "The initial cell state, $c_0$, like the initial hidden state is initialized to a tensor of all zeros. The sentiment prediction is still, however, only made using the final hidden state, not the final cell state, i.e. $\\hat{y}=f(h_T)$.\n",
        "\n",
        "### Bidirectional RNN\n",
        "\n",
        "The concept behind a bidirectional RNN is simple. As well as having an RNN processing the words in the sentence from the first to the last (a forward RNN), we have a second RNN processing the words in the sentence from the **last to the first** (a backward RNN). At time step $t$, the forward RNN is processing word $x_t$, and the backward RNN is processing word $x_{T-t+1}$. \n",
        "\n",
        "In PyTorch, the hidden state (and cell state) tensors returned by the forward and backward RNNs are stacked on top of each other in a single tensor. \n",
        "\n",
        "We make our sentiment prediction using a concatenation of the last hidden state from the forward RNN (obtained from final word of the sentence), $h_T^\\rightarrow$, and the last hidden state from the backward RNN (obtained from the first word of the sentence), $h_T^\\leftarrow$, i.e. $\\hat{y}=f(h_T^\\rightarrow, h_T^\\leftarrow)$   \n",
        "\n",
        "The image below shows a bi-directional RNN, with the forward RNN in orange, the backward RNN in green and the linear layer in silver.  \n",
        "\n",
        "![](https://github.com/Dianna22/pytorch-sentiment-analysis/blob/master/assets/sentiment3.png?raw=1)\n",
        "\n",
        "### Multi-layer RNN\n",
        "\n",
        "Multi-layer RNNs (also called *deep RNNs*) are another simple concept. The idea is that we add additional RNNs on top of the initial standard RNN, where each RNN added is another *layer*. The hidden state output by the first (bottom) RNN at time-step $t$ will be the input to the RNN above it at time step $t$. The prediction is then made from the final hidden state of the final (highest) layer.\n",
        "\n",
        "The image below shows a multi-layer unidirectional RNN, where the layer number is given as a superscript. Also note that each layer needs their own initial hidden state, $h_0^L$.\n",
        "\n",
        "![](https://github.com/Dianna22/pytorch-sentiment-analysis/blob/master/assets/sentiment4.png?raw=1)\n",
        "\n",
        "### Regularization\n",
        "\n",
        "Although we've added improvements to our model, each one adds additional parameters. Without going into overfitting into too much detail, the more parameters you have in in your model, the higher the probability that your model will overfit (memorize the training data, causing  a low training error but high validation/testing error, i.e. poor generalization to new, unseen examples). To combat this, we use regularization. More specifically, we use a method of regularization called *dropout*. Dropout works by randomly *dropping out* (setting to 0) neurons in a layer during a forward pass. The probability that each neuron is dropped out is set by a hyperparameter and each neuron with dropout applied is considered indepenently. One theory about why dropout works is that a model with parameters dropped out can be seen as a \"weaker\" (less parameters) model. The predictions from all these \"weaker\" models (one for each forward pass) get averaged together withinin the parameters of the model. Thus, your one model can be thought of as an ensemble of weaker models, none of which are over-parameterized and thus should not overfit.\n",
        "\n",
        "### Implementation Details\n",
        "\n",
        "Another addition to this model is that we are not going to learn the embedding for the `<pad>` token. This is because we want to explitictly tell our model that padding tokens are irrelevant to determining the sentiment of a sentence. This means the embedding for the pad token will remain at what it is initialized to (we initialize it to all zeros later). We do this by passing the index of our pad token as the `padding_idx` argument to the `nn.Embedding` layer.\n",
        "\n",
        "To use an LSTM instead of the standard RNN, we use `nn.LSTM` instead of `nn.RNN`. Also, note that the LSTM returns the `output` and a tuple of the final `hidden` state and the final `cell` state, whereas the standard RNN only returned the `output` and final `hidden` state. \n",
        "\n",
        "As the final hidden state of our LSTM has both a forward and a backward component, which will be concatenated together, the size of the input to the `nn.Linear` layer is twice that of the hidden dimension size.\n",
        "\n",
        "Implementing bidirectionality and adding additional layers are done by passing values for the `num_layers` and `bidirectional` arguments for the RNN/LSTM. \n",
        "\n",
        "Dropout is implemented by initializing an `nn.Dropout` layer (the argument is the probability of dropping out each neuron) and using it within the `forward` method after each layer we want to apply dropout to. **Note**: never use dropout on the input or output layers (`text` or `fc` in this case), you only ever want to use dropout on intermediate layers. The LSTM has a `dropout` argument which adds dropout on the connections between hidden states in one layer to hidden states in the next layer. \n",
        "\n",
        "As we are passing the lengths of our sentences to be able to use packed padded sequences, we have to add a second argument, `text_lengths`, to `forward`. \n",
        "\n",
        "Before we pass our embeddings to the RNN, we need to pack them, which we do with `nn.utils.rnn.packed_padded_sequence`. This will cause our RNN to only process the non-padded elements of our sequence. The RNN will then return `packed_output` (a packed sequence) as well as the `hidden` and `cell` states (both of which are tensors). Without packed padded sequences, `hidden` and `cell` are tensors from the last element in the sequence, which will most probably be a pad token, however when using packed padded sequences they are both from the last non-padded element in the sequence. \n",
        "\n",
        "We then unpack the output sequence, with `nn.utils.rnn.pad_packed_sequence`, to transform it from a packed sequence to a tensor. The elements of `output` from padding tokens will be zero tensors (tensors where every element is zero). Usually, we only have to unpack output if we are going to use it later on in the model. Although we aren't in this case, we still unpack the sequence just to show how it is done.\n",
        "\n",
        "The final hidden state, `hidden`, has a shape of _**[num layers * num directions, batch size, hid dim]**_. These are ordered: **[forward_layer_0, backward_layer_0, forward_layer_1, backward_layer 1, ..., forward_layer_n, backward_layer n]**. As we want the final (top) layer forward and backward hidden states, we get the top two hidden layers from the first dimension, `hidden[-2,:,:]` and `hidden[-1,:,:]`, and concatenate them together before passing them to the linear layer (after applying dropout). "
      ]
    },
    {
      "cell_type": "markdown",
      "metadata": {
        "id": "HtMU43AF63xt",
        "colab_type": "text"
      },
      "source": [
        "#### Vocabulary\n"
      ]
    },
    {
      "cell_type": "code",
      "metadata": {
        "id": "NQZA0uTi65qP",
        "colab_type": "code",
        "colab": {}
      },
      "source": [
        "corpus = {} # doc_label: {word: word_freq_df}\n",
        "df = {}\n",
        "for instance in train_data.examples:\n",
        "  for word in instance.text:\n",
        "    word = word.lower()\n",
        "    df[word] = df.get(word,0)+1\n",
        "    corpus[instance.label] = corpus.get(instance.label, {}) # {word: df}\n",
        "    corpus[instance.label][word] = corpus[instance.label].get(word, 0) + 1\n"
      ],
      "execution_count": 0,
      "outputs": []
    },
    {
      "cell_type": "code",
      "metadata": {
        "id": "73woaNFjMtu5",
        "colab_type": "code",
        "colab": {}
      },
      "source": [
        "def compute_tf_idf(word, doc, doc_freq):\n",
        "  tf = doc_freq[doc][word]/sum(doc_freq[doc].values())\n",
        "  df = len([doc for doc in corpus.keys() if word if corpus[doc]])\n",
        "  idf = 2/df\n",
        "  return tf * idf"
      ],
      "execution_count": 0,
      "outputs": []
    },
    {
      "cell_type": "code",
      "metadata": {
        "id": "SIQNKRLsCUoK",
        "colab_type": "code",
        "outputId": "6743452c-df1c-4d7f-abe9-f9fd6979e57d",
        "colab": {
          "base_uri": "https://localhost:8080/",
          "height": 35
        }
      },
      "source": [
        "import math\n",
        "\n",
        "tf_idf = {} # {doc(label): {word:score}}\n",
        "N = len(corpus)\n",
        "print(N, \"classes\")\n",
        "for doc in corpus.keys():\n",
        "  tf_idf[doc] = tf_idf.get(doc,{})\n",
        "  for word in corpus[doc]:\n",
        "    word = word.lower()\n",
        "    tf_idf[doc][word] = compute_tf_idf(word, doc, corpus)"
      ],
      "execution_count": 8,
      "outputs": [
        {
          "output_type": "stream",
          "text": [
            "2 classes\n"
          ],
          "name": "stdout"
        }
      ]
    },
    {
      "cell_type": "code",
      "metadata": {
        "id": "J4HH1HYdE516",
        "colab_type": "code",
        "colab": {}
      },
      "source": [
        "sorted_words = {doc: [key for key in sorted(tf_idf[doc].keys(), key=tf_idf[doc].get, reverse=True)] for doc in tf_idf.keys()} "
      ],
      "execution_count": 0,
      "outputs": []
    },
    {
      "cell_type": "code",
      "metadata": {
        "id": "zwT8DMQsGlqt",
        "colab_type": "code",
        "outputId": "4d1b1424-790d-48ac-f6f3-3b7d1017c9e4",
        "colab": {
          "base_uri": "https://localhost:8080/",
          "height": 35
        }
      },
      "source": [
        "tf_idf['neg']['the']"
      ],
      "execution_count": 10,
      "outputs": [
        {
          "output_type": "execute_result",
          "data": {
            "text/plain": [
              "0.04741636929535363"
            ]
          },
          "metadata": {
            "tags": []
          },
          "execution_count": 10
        }
      ]
    },
    {
      "cell_type": "code",
      "metadata": {
        "id": "ngyQFGdaSw2Q",
        "colab_type": "code",
        "outputId": "54b65e25-028b-496f-b023-810553a0ca34",
        "colab": {
          "base_uri": "https://localhost:8080/",
          "height": 35
        }
      },
      "source": [
        "max(tf_idf['neg'].values())"
      ],
      "execution_count": 11,
      "outputs": [
        {
          "output_type": "execute_result",
          "data": {
            "text/plain": [
              "0.04741636929535363"
            ]
          },
          "metadata": {
            "tags": []
          },
          "execution_count": 11
        }
      ]
    },
    {
      "cell_type": "code",
      "metadata": {
        "id": "vcdIxgeiT60z",
        "colab_type": "code",
        "outputId": "f7c92273-3032-4689-89ba-0717353a280f",
        "colab": {
          "base_uri": "https://localhost:8080/",
          "height": 72
        }
      },
      "source": [
        "import nltk\n",
        "nltk.download('stopwords')"
      ],
      "execution_count": 12,
      "outputs": [
        {
          "output_type": "stream",
          "text": [
            "[nltk_data] Downloading package stopwords to /root/nltk_data...\n",
            "[nltk_data]   Package stopwords is already up-to-date!\n"
          ],
          "name": "stdout"
        },
        {
          "output_type": "execute_result",
          "data": {
            "text/plain": [
              "True"
            ]
          },
          "metadata": {
            "tags": []
          },
          "execution_count": 12
        }
      ]
    },
    {
      "cell_type": "code",
      "metadata": {
        "id": "HWnJaaOLT3RW",
        "colab_type": "code",
        "colab": {}
      },
      "source": [
        "from nltk.corpus import stopwords\n",
        "import string\n",
        "stop_words = set(stopwords.words('english'))"
      ],
      "execution_count": 0,
      "outputs": []
    },
    {
      "cell_type": "code",
      "metadata": {
        "id": "PDJcnn9KWQ3T",
        "colab_type": "code",
        "colab": {}
      },
      "source": [
        "def get_vocab(sentiment):\n",
        "  ignore_set = set(string.punctuation).union(set('0123456789'))\n",
        "  return [word for word in sorted_words[sentiment] if word not in stop_words and not set(word).intersection(ignore_set)]"
      ],
      "execution_count": 0,
      "outputs": []
    },
    {
      "cell_type": "code",
      "metadata": {
        "id": "E90YFDLuE3hR",
        "colab_type": "code",
        "colab": {}
      },
      "source": [
        "neg_vocab = get_vocab('neg')\n",
        "pos_vocab = get_vocab('pos')"
      ],
      "execution_count": 0,
      "outputs": []
    },
    {
      "cell_type": "code",
      "metadata": {
        "id": "PXpViNALNBqi",
        "colab_type": "code",
        "colab": {}
      },
      "source": [
        "# pip install vaderSentiment"
      ],
      "execution_count": 0,
      "outputs": []
    },
    {
      "cell_type": "code",
      "metadata": {
        "id": "NKHTq347Mk5J",
        "colab_type": "code",
        "colab": {}
      },
      "source": [
        "from vaderSentiment.vaderSentiment import SentimentIntensityAnalyzer\n",
        "analyser = SentimentIntensityAnalyzer()"
      ],
      "execution_count": 0,
      "outputs": []
    },
    {
      "cell_type": "code",
      "metadata": {
        "id": "QnfjSzkRNEoN",
        "colab_type": "code",
        "colab": {}
      },
      "source": [
        "n_vocab = [word for word in neg_vocab if analyser.polarity_scores(word)['neu'] != 1]\n",
        "p_vocab = [word for word in pos_vocab if analyser.polarity_scores(word)['neu'] != 1]"
      ],
      "execution_count": 0,
      "outputs": []
    },
    {
      "cell_type": "code",
      "metadata": {
        "id": "PEMDUg73VHyK",
        "colab_type": "code",
        "colab": {}
      },
      "source": [
        "VOCAB_LIST = list(set(n_vocab[:100]+p_vocab[:100]))"
      ],
      "execution_count": 0,
      "outputs": []
    },
    {
      "cell_type": "code",
      "metadata": {
        "id": "Fm-QbhGQNC5-",
        "colab_type": "code",
        "outputId": "86564702-1041-4adf-d05c-9827a30c1855",
        "colab": {
          "base_uri": "https://localhost:8080/",
          "height": 35
        }
      },
      "source": [
        "len(VOCAB_LIST)"
      ],
      "execution_count": 20,
      "outputs": [
        {
          "output_type": "execute_result",
          "data": {
            "text/plain": [
              "136"
            ]
          },
          "metadata": {
            "tags": []
          },
          "execution_count": 20
        }
      ]
    },
    {
      "cell_type": "code",
      "metadata": {
        "id": "F1236iwu_Llv",
        "colab_type": "code",
        "colab": {}
      },
      "source": [
        "VOCAB = [TEXT.vocab.stoi[word] for word in VOCAB_LIST]"
      ],
      "execution_count": 0,
      "outputs": []
    },
    {
      "cell_type": "code",
      "metadata": {
        "id": "abg1psFcFPyt",
        "colab_type": "code",
        "colab": {}
      },
      "source": [
        ""
      ],
      "execution_count": 0,
      "outputs": []
    },
    {
      "cell_type": "code",
      "metadata": {
        "id": "QQ8k5SF5FqSu",
        "colab_type": "code",
        "colab": {}
      },
      "source": [
        "# str([ f\"{len(a)-i} {word}\" for i, word in enumerate(a)]).replace(\"'\",\"\").replace(\",\",\"\")"
      ],
      "execution_count": 0,
      "outputs": []
    },
    {
      "cell_type": "markdown",
      "metadata": {
        "id": "MvWzQ1WyiBUn",
        "colab_type": "text"
      },
      "source": [
        "#### Model"
      ]
    },
    {
      "cell_type": "code",
      "metadata": {
        "id": "l600TJfwbZ7X",
        "colab_type": "code",
        "colab": {}
      },
      "source": [
        "import torch.nn as nn\n",
        "import torch.nn.functional as F\n",
        "class RNN(nn.Module):\n",
        "    def __init__(self, vocab_size, embedding_dim, hidden_dim, output_dim, n_layers, \n",
        "                 bidirectional, dropout, pad_idx, explanation_vocab):\n",
        "        \n",
        "        super().__init__()\n",
        "        self.emb_dim = embedding_dim\n",
        "        \n",
        "        self.device = device #torch.device('cuda' if torch.cuda.is_available() else 'cpu')\n",
        "        \n",
        "        self.embedding = nn.Embedding(vocab_size, embedding_dim, padding_idx = pad_idx)\n",
        "        \n",
        "        self.rnn = nn.LSTM(embedding_dim, \n",
        "                           hidden_dim, \n",
        "                           num_layers=n_layers, \n",
        "                           bidirectional=bidirectional, \n",
        "                           dropout=dropout)\n",
        "        self.gen = nn.LSTM(embedding_dim, \n",
        "                           hidden_dim, \n",
        "                           num_layers=n_layers, \n",
        "                           bidirectional=bidirectional, \n",
        "                           dropout=dropout)\n",
        "\n",
        "        self.fc = nn.Linear(hidden_dim * 2, output_dim)\n",
        "\n",
        "\n",
        "        self.expl_emb = nn.Embedding(vocab_size, embedding_dim, padding_idx = pad_idx)\n",
        "        # self.gen = CNN(embedding_dim, 100, [3,4,5],1)\n",
        "        self.gen_lin = nn.Linear(2*hidden_dim, len(explanation_vocab))\n",
        "        self.gen_softmax = F.gumbel_softmax #nn.Softmax(2)      \n",
        "        self.explanations = torch.tensor(explanation_vocab, device=self.device)\n",
        "        \n",
        "        self.dropout = nn.Dropout(dropout)\n",
        "        \n",
        "    def forward(self, text, text_lengths):\n",
        "        batch_size = text.size()[1]\n",
        "        \n",
        "        #text = [sent len, batch size]\n",
        "        \n",
        "        embedded = self.dropout(self.embedding(text))\n",
        "        \n",
        "        #embedded = [sent len, batch size, emb dim]\n",
        "        \n",
        "\n",
        "        ##GEN\n",
        "        # [sent len, batch, 2*hidden_dim]\n",
        "        expl_activ, (_, _) = self.gen(embedded)\n",
        "        # expl_activ = nn.Dropout(0.4)(expl_activ)\n",
        "        # [sent, batch, vocab]\n",
        "        lin_activ = self.gen_lin(expl_activ)\n",
        "        expl_activ = nn.Dropout(0.2)(lin_activ)\n",
        "        # [sent, batch, vocab]\n",
        "        expl_distribution = self.gen_softmax(lin_activ)\n",
        "        \n",
        "        # [batch, sent, vocab]\n",
        "        expl_distribution = torch.transpose(expl_distribution, 0, 1)\n",
        "\n",
        "        # [vocab_size, emb_dim]\n",
        "        v_emb = self.expl_emb(self.explanations)\n",
        "\n",
        "        #[batch, vocab_size, emd_dim]\n",
        "        vocab_emb = v_emb.repeat(batch_size,1,1)\n",
        "\n",
        "        \n",
        "        # [batch,sent, emb_dim]\n",
        "        expl = torch.bmm(expl_distribution, vocab_emb)\n",
        "\n",
        "        #[batch, 1, emb_dim]\n",
        "        # context_vector = torch.max(expl, dim=1).values.unsqueeze(1)\n",
        "        context_vector = torch.sum(expl, dim=1).unsqueeze(1)\n",
        "\n",
        "        sep = torch.rand((batch_size,1,self.emb_dim), device=self.device)\n",
        "        # [batch, 1+1, emb_dim]\n",
        "        sep_vocab = torch.cat((sep, context_vector),1)\n",
        "\n",
        "        #[batch, sent, emb]\n",
        "        x = torch.transpose(embedded,0,1)\n",
        "\n",
        "        # [batch, sent_len+2, emb_dim]\n",
        "        concat_input = torch.cat((x,sep_vocab),1) \n",
        "\n",
        "        #[sent_len+1, batch, emb_dim]\n",
        "        final_input = torch.transpose(concat_input,0,1)\n",
        "        \n",
        "        packed_all = nn.utils.rnn.pack_padded_sequence(final_input, text_lengths+2)\n",
        "        \n",
        "        packed_output, (hidden, cell) = self.rnn(packed_all)\n",
        "        \n",
        "        #unpack sequence\n",
        "        output, output_lengths = nn.utils.rnn.pad_packed_sequence(packed_output)\n",
        "\n",
        "        #output = [sent len, batch size, hid dim * num directions]\n",
        "        #output over padding tokens are zero tensors\n",
        "        \n",
        "        #hidden = [num layers * num directions, batch size, hid dim]\n",
        "        #cell = [num layers * num directions, batch size, hid dim]\n",
        "        \n",
        "        #concat the final forward (hidden[-2,:,:]) and backward (hidden[-1,:,:]) hidden layers\n",
        "        #and apply dropout\n",
        "        \n",
        "        hidden = self.dropout(torch.cat((hidden[-2,:,:], hidden[-1,:,:]), dim = 1))\n",
        "                \n",
        "        #hidden = [batch size, hid dim * num directions]\n",
        "            \n",
        "        return self.fc(hidden), expl_distribution"
      ],
      "execution_count": 0,
      "outputs": []
    },
    {
      "cell_type": "markdown",
      "metadata": {
        "id": "FDqUZCCwbZ7Z",
        "colab_type": "text"
      },
      "source": [
        "Like before, we'll create an instance of our RNN class, with the new parameters and arguments for the number of layers, bidirectionality and dropout probability.\n",
        "\n",
        "To ensure the pre-trained vectors can be loaded into the model, the `EMBEDDING_DIM` must be equal to that of the pre-trained GloVe vectors loaded earlier.\n",
        "\n",
        "We get our pad token index from the vocabulary, getting the actual string representing the pad token from the field's `pad_token` attribute, which is `<pad>` by default."
      ]
    },
    {
      "cell_type": "code",
      "metadata": {
        "id": "Uvffr2E4bZ7a",
        "colab_type": "code",
        "outputId": "bf681c9c-e10f-4b11-8059-3f0d2facef41",
        "colab": {
          "base_uri": "https://localhost:8080/",
          "height": 35
        }
      },
      "source": [
        "INPUT_DIM = len(TEXT.vocab)\n",
        "EMBEDDING_DIM = 300\n",
        "HIDDEN_DIM = 256\n",
        "OUTPUT_DIM = 1\n",
        "N_LAYERS = 2\n",
        "BIDIRECTIONAL = True\n",
        "DROPOUT = 0.5\n",
        "PAD_IDX = TEXT.vocab.stoi[TEXT.pad_token]\n",
        "\n",
        "model = RNN(INPUT_DIM, \n",
        "            EMBEDDING_DIM, \n",
        "            HIDDEN_DIM, \n",
        "            OUTPUT_DIM, \n",
        "            N_LAYERS, \n",
        "            BIDIRECTIONAL, \n",
        "            DROPOUT, \n",
        "            PAD_IDX,\n",
        "            VOCAB)\n",
        "print(len(VOCAB))"
      ],
      "execution_count": 24,
      "outputs": [
        {
          "output_type": "stream",
          "text": [
            "136\n"
          ],
          "name": "stdout"
        }
      ]
    },
    {
      "cell_type": "markdown",
      "metadata": {
        "id": "gSIyQjdGbZ7c",
        "colab_type": "text"
      },
      "source": [
        "We'll print out the number of parameters in our model. \n",
        "\n",
        "Notice how we have almost twice as many parameters as before!"
      ]
    },
    {
      "cell_type": "code",
      "metadata": {
        "id": "F6k3g2xFbZ7c",
        "colab_type": "code",
        "outputId": "fa722cf4-30f7-4faa-96a9-2da81716bb87",
        "colab": {
          "base_uri": "https://localhost:8080/",
          "height": 35
        }
      },
      "source": [
        "def count_parameters(model):\n",
        "    return sum(p.numel() for p in model.parameters() if p.requires_grad)\n",
        "\n",
        "print(f'The model has {count_parameters(model):,} trainable parameters')"
      ],
      "execution_count": 25,
      "outputs": [
        {
          "output_type": "stream",
          "text": [
            "The model has 20,510,969 trainable parameters\n"
          ],
          "name": "stdout"
        }
      ]
    },
    {
      "cell_type": "markdown",
      "metadata": {
        "id": "SxzeeqdSbZ7h",
        "colab_type": "text"
      },
      "source": [
        "The final addition is copying the pre-trained word embeddings we loaded earlier into the `embedding` layer of our model.\n",
        "\n",
        "We retrieve the embeddings from the field's vocab, and check they're the correct size, _**[vocab size, embedding dim]**_ "
      ]
    },
    {
      "cell_type": "code",
      "metadata": {
        "id": "8iSCM0VxbZ7i",
        "colab_type": "code",
        "outputId": "95cbc085-2735-4a1c-f364-d342e86da361",
        "colab": {
          "base_uri": "https://localhost:8080/",
          "height": 35
        }
      },
      "source": [
        "pretrained_embeddings = TEXT.vocab.vectors\n",
        "\n",
        "print(pretrained_embeddings.shape)"
      ],
      "execution_count": 26,
      "outputs": [
        {
          "output_type": "stream",
          "text": [
            "torch.Size([25002, 300])\n"
          ],
          "name": "stdout"
        }
      ]
    },
    {
      "cell_type": "markdown",
      "metadata": {
        "id": "AE3ukaqNbZ7k",
        "colab_type": "text"
      },
      "source": [
        "We then replace the initial weights of the `embedding` layer with the pre-trained embeddings.\n",
        "\n",
        "**Note**: this should always be done on the `weight.data` and not the `weight`!"
      ]
    },
    {
      "cell_type": "code",
      "metadata": {
        "id": "_wyx1c-AbZ7l",
        "colab_type": "code",
        "outputId": "1f716136-cdfd-43e1-9132-3b3eff2ce25b",
        "colab": {
          "base_uri": "https://localhost:8080/",
          "height": 145
        }
      },
      "source": [
        "model.embedding.weight.data.copy_(pretrained_embeddings)"
      ],
      "execution_count": 27,
      "outputs": [
        {
          "output_type": "execute_result",
          "data": {
            "text/plain": [
              "tensor([[-0.1117, -0.4966,  0.1631,  ..., -1.4447,  0.8402, -0.8668],\n",
              "        [ 0.1032, -1.6268,  0.5729,  ...,  0.3180, -0.1626, -0.0417],\n",
              "        [ 0.0466,  0.2132, -0.0074,  ...,  0.0091, -0.2099,  0.0539],\n",
              "        ...,\n",
              "        [-0.2064, -0.3348, -1.0158,  ..., -1.3281, -0.5336,  1.0823],\n",
              "        [ 0.9746,  0.5796, -1.6229,  ...,  0.2855,  1.7823, -0.0436],\n",
              "        [ 0.4945, -1.1232, -0.0642,  ..., -0.3861, -1.4883, -0.5126]])"
            ]
          },
          "metadata": {
            "tags": []
          },
          "execution_count": 27
        }
      ]
    },
    {
      "cell_type": "markdown",
      "metadata": {
        "id": "yUE1_jwdbZ7o",
        "colab_type": "text"
      },
      "source": [
        "As our `<unk>` and `<pad>` token aren't in the pre-trained vocabulary they have been initialized using `unk_init` (an $\\mathcal{N}(0,1)$ distribution) when building our vocab. It is preferable to initialize them both to all zeros to explicitly tell our model that, initially, they are irrelevant for determining sentiment. \n",
        "\n",
        "We do this by manually setting their row in the embedding weights matrix to zeros. We get their row by finding the index of the tokens, which we have already done for the padding index.\n",
        "\n",
        "**Note**: like initializing the embeddings, this should be done on the `weight.data` and not the `weight`!"
      ]
    },
    {
      "cell_type": "code",
      "metadata": {
        "id": "V31YKet4bZ7o",
        "colab_type": "code",
        "outputId": "cefa5188-9998-4e8b-ceee-c2d7e701f584",
        "colab": {
          "base_uri": "https://localhost:8080/",
          "height": 145
        }
      },
      "source": [
        "UNK_IDX = TEXT.vocab.stoi[TEXT.unk_token]\n",
        "\n",
        "model.embedding.weight.data[UNK_IDX] = torch.zeros(EMBEDDING_DIM)\n",
        "model.embedding.weight.data[PAD_IDX] = torch.zeros(EMBEDDING_DIM)\n",
        "\n",
        "print(model.embedding.weight.data)"
      ],
      "execution_count": 28,
      "outputs": [
        {
          "output_type": "stream",
          "text": [
            "tensor([[ 0.0000,  0.0000,  0.0000,  ...,  0.0000,  0.0000,  0.0000],\n",
            "        [ 0.0000,  0.0000,  0.0000,  ...,  0.0000,  0.0000,  0.0000],\n",
            "        [ 0.0466,  0.2132, -0.0074,  ...,  0.0091, -0.2099,  0.0539],\n",
            "        ...,\n",
            "        [-0.2064, -0.3348, -1.0158,  ..., -1.3281, -0.5336,  1.0823],\n",
            "        [ 0.9746,  0.5796, -1.6229,  ...,  0.2855,  1.7823, -0.0436],\n",
            "        [ 0.4945, -1.1232, -0.0642,  ..., -0.3861, -1.4883, -0.5126]])\n"
          ],
          "name": "stdout"
        }
      ]
    },
    {
      "cell_type": "markdown",
      "metadata": {
        "id": "pEoKhDh7bZ7q",
        "colab_type": "text"
      },
      "source": [
        "We can now see the first two rows of the embedding weights matrix have been set to zeros. As we passed the index of the pad token to the `padding_idx` of the embedding layer it will remain zeros throughout training, however the `<unk>` token embedding will be learned."
      ]
    },
    {
      "cell_type": "markdown",
      "metadata": {
        "id": "DovSnxSMbZ7r",
        "colab_type": "text"
      },
      "source": [
        "## Train the Model"
      ]
    },
    {
      "cell_type": "markdown",
      "metadata": {
        "id": "Y8ufiiP-9RVx",
        "colab_type": "text"
      },
      "source": [
        "#### Train prep\n"
      ]
    },
    {
      "cell_type": "markdown",
      "metadata": {
        "id": "bZAKJpiLbZ7s",
        "colab_type": "text"
      },
      "source": [
        "Now to training the model.\n",
        "\n",
        "The only change we'll make here is changing the optimizer from `SGD` to `Adam`. SGD updates all parameters with the same learning rate and choosing this learning rate can be tricky. `Adam` adapts the learning rate for each parameter, giving parameters that are updated more frequently lower learning rates and parameters that are updated infrequently higher learning rates. More information about `Adam` (and other optimizers) can be found [here](http://ruder.io/optimizing-gradient-descent/index.html).\n",
        "\n",
        "To change `SGD` to `Adam`, we simply change `optim.SGD` to `optim.Adam`, also note how we do not have to provide an initial learning rate for Adam as PyTorch specifies a sensibile default initial learning rate."
      ]
    },
    {
      "cell_type": "code",
      "metadata": {
        "id": "FNAIs7fVbZ7s",
        "colab_type": "code",
        "colab": {}
      },
      "source": [
        "import torch.optim as optim\n",
        "\n",
        "optimizer = optim.Adam(model.parameters())"
      ],
      "execution_count": 0,
      "outputs": []
    },
    {
      "cell_type": "markdown",
      "metadata": {
        "id": "UMtgVWsGbZ7u",
        "colab_type": "text"
      },
      "source": [
        "The rest of the steps for training the model are unchanged.\n",
        "\n",
        "We define the criterion and place the model and criterion on the GPU (if available)..."
      ]
    },
    {
      "cell_type": "code",
      "metadata": {
        "id": "4f8ULX-qbZ7v",
        "colab_type": "code",
        "colab": {}
      },
      "source": [
        "criterion = nn.BCEWithLogitsLoss()\n",
        "\n",
        "model = model.to(device)\n",
        "criterion = criterion.to(device)"
      ],
      "execution_count": 0,
      "outputs": []
    },
    {
      "cell_type": "markdown",
      "metadata": {
        "id": "XiE9quDMbZ7x",
        "colab_type": "text"
      },
      "source": [
        "We implement the function to calculate accuracy..."
      ]
    },
    {
      "cell_type": "code",
      "metadata": {
        "id": "1lhsVCpibZ7x",
        "colab_type": "code",
        "colab": {}
      },
      "source": [
        "def binary_accuracy(preds, y):\n",
        "    \"\"\"\n",
        "    Returns accuracy per batch, i.e. if you get 8/10 right, this returns 0.8, NOT 8\n",
        "    \"\"\"\n",
        "\n",
        "    #round predictions to the closest integer\n",
        "    rounded_preds = torch.round(torch.sigmoid(preds))\n",
        "    correct = (rounded_preds == y).float() #convert into float for division \n",
        "    acc = correct.sum() / len(correct)\n",
        "    return acc"
      ],
      "execution_count": 0,
      "outputs": []
    },
    {
      "cell_type": "markdown",
      "metadata": {
        "id": "KEyrcNvmbZ7z",
        "colab_type": "text"
      },
      "source": [
        "We define a function for training our model. \n",
        "\n",
        "As we have set `include_lengths = True`, our `batch.text` is now a tuple with the first element being the numericalized tensor and the second element being the actual lengths of each sequence. We separate these into their own variables, `text` and `text_lengths`, before passing them to the model.\n",
        "\n",
        "**Note**: as we are now using dropout, we must remember to use `model.train()` to ensure the dropout is \"turned on\" while training."
      ]
    },
    {
      "cell_type": "code",
      "metadata": {
        "id": "rZV4SSr7bZ70",
        "colab_type": "code",
        "colab": {}
      },
      "source": [
        "def train(model, iterator, optimizer, criterion):\n",
        "    \n",
        "    epoch_loss = 0\n",
        "    epoch_acc = 0\n",
        "    \n",
        "    model.train()\n",
        "    \n",
        "    for batch in tqdm.tqdm(iterator):\n",
        "        \n",
        "        optimizer.zero_grad()\n",
        "        \n",
        "        text, text_lengths = batch.text\n",
        "        \n",
        "        predictions, expl = model(text, text_lengths)\n",
        "        predictions = predictions.squeeze(1)\n",
        "        \n",
        "        loss = criterion(predictions, batch.label)\n",
        "        \n",
        "        acc = binary_accuracy(predictions, batch.label)\n",
        "        \n",
        "        loss.backward()\n",
        "        \n",
        "        optimizer.step()\n",
        "        \n",
        "        epoch_loss += loss.item()\n",
        "        epoch_acc += acc.item()\n",
        "        \n",
        "    return epoch_loss / len(iterator), epoch_acc / len(iterator)"
      ],
      "execution_count": 0,
      "outputs": []
    },
    {
      "cell_type": "markdown",
      "metadata": {
        "id": "LRpNq_QIbZ73",
        "colab_type": "text"
      },
      "source": [
        "Then we define a function for testing our model, again remembering to separate `batch.text`.\n",
        "\n",
        "**Note**: as we are now using dropout, we must remember to use `model.eval()` to ensure the dropout is \"turned off\" while evaluating."
      ]
    },
    {
      "cell_type": "code",
      "metadata": {
        "id": "urEHKAcAvJAo",
        "colab_type": "code",
        "colab": {}
      },
      "source": [
        "import spacy\n",
        "nlp = spacy.load('en')\n",
        "\n",
        "def decode_expl(expl):\n",
        "  decoded = {}\n",
        "  # print(expl.size())\n",
        "  for e in expl:\n",
        "    # print(e.size())\n",
        "    # print(torch.argsort(e, 0, True)[:10])\n",
        "    tops = torch.argsort(e, 0, True)\n",
        "    # print(tops[0])\n",
        "    # print(TEXT.vocab.itos[VOCAB[tops[0]]])\n",
        "    # print(e[tops[0]])\n",
        "    #word: score\n",
        "    for i in range(3):\n",
        "      decoded[TEXT.vocab.itos[VOCAB[tops[i]]]]= e[tops[i]]\n",
        "    # vals, idx = e.max(0)\n",
        "    # print(TEXT.vocab.itos[VOCAB[tops[0]]])\n",
        "    # print(TEXT.vocab.itos[VOCAB[tops[1]]])\n",
        "    # print(TEXT.vocab.itos[VOCAB[tops[2]]])\n",
        "  # print(\"**\")\n",
        "  # print(expl.size())\n",
        "  # print(decoded)\n",
        "  return sorted(decoded.keys(), key=decoded.get, reverse=True)\n",
        "  expl = torch.max(expl,0).values\n",
        "  tops = torch.argsort(expl, 0, True)\n",
        "  # # print(tops[:5])\n",
        "  return [TEXT.vocab.itos[VOCAB[tops[i]]] for i in range(10)]\n",
        "\n",
        "def predict_sentiment(model, sentence):\n",
        "    model.eval()\n",
        "    tokenized = [tok.text for tok in nlp.tokenizer(sentence)]\n",
        "    indexed = [TEXT.vocab.stoi[t] for t in tokenized]\n",
        "    length = [len(indexed)]\n",
        "    tensor = torch.LongTensor(indexed).to(device)\n",
        "    tensor = tensor.unsqueeze(1)\n",
        "    length_tensor = torch.LongTensor(length)\n",
        "    pred, expl = model(tensor, length_tensor)\n",
        "    print(decode_expl(expl[0]))\n",
        "    prediction = torch.sigmoid(pred)\n",
        "    return prediction.item()"
      ],
      "execution_count": 0,
      "outputs": []
    },
    {
      "cell_type": "markdown",
      "metadata": {
        "id": "aED06hkpAe84",
        "colab_type": "text"
      },
      "source": [
        "#### ceva"
      ]
    },
    {
      "cell_type": "code",
      "metadata": {
        "id": "2xP70NdCbZ75",
        "colab_type": "code",
        "colab": {}
      },
      "source": [
        "def evaluate(model, iterator, criterion, filename=\"eval.expl\", prt=False, correct=True):\n",
        "    \n",
        "    epoch_loss = 0\n",
        "    epoch_acc = 0\n",
        "    \n",
        "    model.eval()\n",
        "    \n",
        "    with torch.no_grad():\n",
        "        with open(filename, \"w\") as f:\n",
        "            for batch in iterator:\n",
        "                text, text_lengths = batch.text\n",
        "                \n",
        "                predictions, expl = model(text, text_lengths)\n",
        "                predictions = predictions.squeeze(1)\n",
        "                if prt:\n",
        "                  for i in range(predictions.size()[0]):\n",
        "                    if correct:\n",
        "                      cond = torch.sigmoid(predictions[i]).round()==batch.label[i]\n",
        "                    else:\n",
        "                      cond = torch.sigmoid(predictions[i]).round()!=batch.label[i]\n",
        "                    if cond:\n",
        "                      print(\" \".join([TEXT.vocab.itos[t] for t in text[:,i]]), file=f)\n",
        "                      print(torch.sigmoid(predictions[i]), file=f)\n",
        "                      print(batch.label[i], file=f)\n",
        "                      print(decode_expl(expl[i]), file=f)\n",
        "                      print(\"**\", file=f)\n",
        "\n",
        "                \n",
        "                loss = criterion(predictions, batch.label)\n",
        "                \n",
        "                acc = binary_accuracy(predictions, batch.label)\n",
        "\n",
        "                epoch_loss += loss.item()\n",
        "                epoch_acc += acc.item()\n",
        "        \n",
        "    return epoch_loss / len(iterator), epoch_acc / len(iterator)"
      ],
      "execution_count": 0,
      "outputs": []
    },
    {
      "cell_type": "markdown",
      "metadata": {
        "id": "RBFQb87CbZ79",
        "colab_type": "text"
      },
      "source": [
        "And also create a nice function to tell us how long our epochs are taking."
      ]
    },
    {
      "cell_type": "code",
      "metadata": {
        "id": "B-BJ5p9RbZ7-",
        "colab_type": "code",
        "colab": {}
      },
      "source": [
        "import time\n",
        "\n",
        "def epoch_time(start_time, end_time):\n",
        "    elapsed_time = end_time - start_time\n",
        "    elapsed_mins = int(elapsed_time / 60)\n",
        "    elapsed_secs = int(elapsed_time - (elapsed_mins * 60))\n",
        "    return elapsed_mins, elapsed_secs"
      ],
      "execution_count": 0,
      "outputs": []
    },
    {
      "cell_type": "markdown",
      "metadata": {
        "id": "nad_q5gqbZ8A",
        "colab_type": "text"
      },
      "source": [
        "Finally, we train our model..."
      ]
    },
    {
      "cell_type": "markdown",
      "metadata": {
        "id": "AeC9VRxZ9M3R",
        "colab_type": "text"
      },
      "source": [
        "#### Train"
      ]
    },
    {
      "cell_type": "code",
      "metadata": {
        "id": "_42KNICc68xZ",
        "colab_type": "code",
        "colab": {}
      },
      "source": [
        "# pip install tqdm"
      ],
      "execution_count": 0,
      "outputs": []
    },
    {
      "cell_type": "code",
      "metadata": {
        "id": "EiRZPvjybZ8A",
        "colab_type": "code",
        "outputId": "09f3276b-dc24-429e-f58c-ee9ce869d8d4",
        "colab": {
          "base_uri": "https://localhost:8080/",
          "height": 1000
        }
      },
      "source": [
        "import tqdm\n",
        "N_EPOCHS = 15\n",
        "tr_loss = []\n",
        "val_loss= []\n",
        "train_accs, val_accs = [], []\n",
        "best_valid_loss = float('inf')\n",
        "prev=123\n",
        "patience = 3\n",
        "cont = True\n",
        "for epoch in  tqdm.tqdm(range(N_EPOCHS)):\n",
        "\n",
        "    start_time = time.time()\n",
        "    \n",
        "    train_loss, train_acc = train(model, train_iterator, optimizer, criterion)\n",
        "    valid_loss, valid_acc = evaluate(model, valid_iterator, criterion)\n",
        "    \n",
        "    end_time = time.time()\n",
        "\n",
        "    epoch_mins, epoch_secs = epoch_time(start_time, end_time)\n",
        "    \n",
        "    if valid_loss < best_valid_loss:\n",
        "        best_valid_loss = valid_loss\n",
        "        torch.save(model.state_dict(), 'tut2-model-dr.pt')\n",
        "    \n",
        "    print(f'Epoch: {epoch+1:02} | Epoch Time: {epoch_mins}m {epoch_secs}s')\n",
        "    print(f'\\tTrain Loss: {train_loss:.3f} | Train Acc: {train_acc*100:.2f}%')\n",
        "    print(f'\\t Val. Loss: {valid_loss:.3f} |  Val. Acc: {valid_acc*100:.2f}%')\n",
        "    train_accs.append(train_acc)\n",
        "    val_accs.append(valid_acc)\n",
        "    tr_loss.append(train_loss)\n",
        "    val_loss.append(valid_loss)\n",
        "    if valid_loss > prev:\n",
        "      if cont:\n",
        "        patience -=1\n",
        "      else:\n",
        "        cont=True\n",
        "    else:\n",
        "      cont = False\n",
        "    if patience == 0:\n",
        "      break\n",
        "    prev = valid_loss"
      ],
      "execution_count": 37,
      "outputs": [
        {
          "output_type": "stream",
          "text": [
            "  0%|          | 0/15 [00:00<?, ?it/s]\n",
            "  0%|          | 0/274 [00:00<?, ?it/s]\u001b[A\n",
            "  0%|          | 1/274 [00:00<01:18,  3.46it/s]\u001b[A\n",
            "  1%|          | 2/274 [00:01<02:18,  1.96it/s]\u001b[A\n",
            "  1%|          | 3/274 [00:01<01:53,  2.38it/s]\u001b[A\n",
            "  1%|▏         | 4/274 [00:01<01:57,  2.31it/s]\u001b[A\n",
            "  2%|▏         | 5/274 [00:02<01:35,  2.83it/s]\u001b[A\n",
            "  2%|▏         | 6/274 [00:02<01:25,  3.13it/s]\u001b[A\n",
            "  3%|▎         | 7/274 [00:03<01:55,  2.30it/s]\u001b[A\n",
            "  3%|▎         | 8/274 [00:03<02:04,  2.13it/s]\u001b[A\n",
            "  3%|▎         | 9/274 [00:04<03:13,  1.37it/s]\u001b[A\n",
            "  4%|▎         | 10/274 [00:05<02:36,  1.68it/s]\u001b[A\n",
            "  4%|▍         | 11/274 [00:05<02:13,  1.97it/s]\u001b[A\n",
            "  4%|▍         | 12/274 [00:06<02:25,  1.80it/s]\u001b[A\n",
            "  5%|▍         | 13/274 [00:06<02:00,  2.16it/s]\u001b[A\n",
            "  5%|▌         | 14/274 [00:06<01:46,  2.43it/s]\u001b[A\n",
            "  5%|▌         | 15/274 [00:06<01:25,  3.03it/s]\u001b[A\n",
            "  6%|▌         | 16/274 [00:07<01:31,  2.82it/s]\u001b[A\n",
            "  6%|▌         | 17/274 [00:07<01:21,  3.16it/s]\u001b[A\n",
            "  7%|▋         | 18/274 [00:07<01:24,  3.04it/s]\u001b[A\n",
            "  7%|▋         | 19/274 [00:08<01:55,  2.20it/s]\u001b[A\n",
            "  7%|▋         | 20/274 [00:09<01:50,  2.30it/s]\u001b[A\n",
            "  8%|▊         | 21/274 [00:09<01:34,  2.67it/s]\u001b[A\n",
            "  8%|▊         | 22/274 [00:09<01:43,  2.42it/s]\u001b[A\n",
            "  8%|▊         | 23/274 [00:10<01:38,  2.54it/s]\u001b[A\n",
            "  9%|▉         | 24/274 [00:11<02:41,  1.55it/s]\u001b[A\n",
            "  9%|▉         | 25/274 [00:11<02:28,  1.68it/s]\u001b[A\n",
            "  9%|▉         | 26/274 [00:12<02:14,  1.85it/s]\u001b[A\n",
            " 10%|▉         | 27/274 [00:12<02:08,  1.92it/s]\u001b[A\n",
            " 10%|█         | 28/274 [00:13<01:49,  2.25it/s]\u001b[A\n",
            " 11%|█         | 29/274 [00:13<01:33,  2.63it/s]\u001b[A\n",
            " 11%|█         | 30/274 [00:13<01:44,  2.34it/s]\u001b[A\n",
            " 11%|█▏        | 31/274 [00:14<01:44,  2.33it/s]\u001b[A\n",
            " 12%|█▏        | 32/274 [00:14<01:28,  2.75it/s]\u001b[A\n",
            " 12%|█▏        | 33/274 [00:14<01:21,  2.98it/s]\u001b[A\n",
            " 12%|█▏        | 34/274 [00:15<01:19,  3.03it/s]\u001b[A\n",
            " 13%|█▎        | 35/274 [00:15<01:02,  3.82it/s]\u001b[A\n",
            " 13%|█▎        | 36/274 [00:15<00:52,  4.50it/s]\u001b[A\n",
            " 14%|█▎        | 37/274 [00:15<01:19,  2.98it/s]\u001b[A\n",
            " 14%|█▍        | 38/274 [00:16<01:16,  3.09it/s]\u001b[A\n",
            " 14%|█▍        | 39/274 [00:18<03:45,  1.04it/s]\u001b[A\n",
            " 15%|█▍        | 40/274 [00:19<03:56,  1.01s/it]\u001b[A\n",
            " 15%|█▍        | 41/274 [00:19<02:59,  1.30it/s]\u001b[A\n",
            " 15%|█▌        | 42/274 [00:20<02:36,  1.49it/s]\u001b[A\n",
            " 16%|█▌        | 43/274 [00:21<02:34,  1.49it/s]\u001b[A\n",
            " 16%|█▌        | 44/274 [00:21<02:13,  1.73it/s]\u001b[A\n",
            " 16%|█▋        | 45/274 [00:22<02:35,  1.47it/s]\u001b[A\n",
            " 17%|█▋        | 46/274 [00:22<01:56,  1.96it/s]\u001b[A\n",
            " 17%|█▋        | 47/274 [00:23<02:20,  1.62it/s]\u001b[A\n",
            " 18%|█▊        | 48/274 [00:23<02:04,  1.81it/s]\u001b[A\n",
            " 18%|█▊        | 49/274 [00:24<01:49,  2.05it/s]\u001b[A\n",
            " 18%|█▊        | 50/274 [00:24<01:42,  2.18it/s]\u001b[A\n",
            " 19%|█▊        | 51/274 [00:24<01:27,  2.55it/s]\u001b[A\n",
            " 19%|█▉        | 52/274 [00:25<02:05,  1.77it/s]\u001b[A\n",
            " 19%|█▉        | 53/274 [00:25<01:41,  2.17it/s]\u001b[A\n",
            " 20%|█▉        | 54/274 [00:25<01:21,  2.71it/s]\u001b[A\n",
            " 20%|██        | 55/274 [00:26<01:25,  2.56it/s]\u001b[A\n",
            " 20%|██        | 56/274 [00:26<01:16,  2.87it/s]\u001b[A\n",
            " 21%|██        | 57/274 [00:27<01:46,  2.05it/s]\u001b[A\n",
            " 21%|██        | 58/274 [00:28<01:46,  2.02it/s]\u001b[A\n",
            " 22%|██▏       | 59/274 [00:28<01:28,  2.42it/s]\u001b[A\n",
            " 22%|██▏       | 60/274 [00:28<01:39,  2.15it/s]\u001b[A\n",
            " 22%|██▏       | 61/274 [00:29<01:22,  2.58it/s]\u001b[A\n",
            " 23%|██▎       | 62/274 [00:29<01:15,  2.80it/s]\u001b[A\n",
            " 23%|██▎       | 63/274 [00:29<01:14,  2.85it/s]\u001b[A\n",
            " 23%|██▎       | 64/274 [00:29<01:08,  3.07it/s]\u001b[A\n",
            " 24%|██▎       | 65/274 [00:30<01:20,  2.59it/s]\u001b[A\n",
            " 24%|██▍       | 66/274 [00:30<01:11,  2.90it/s]\u001b[A\n",
            " 24%|██▍       | 67/274 [00:30<01:05,  3.15it/s]\u001b[A\n",
            " 25%|██▍       | 68/274 [00:31<01:01,  3.34it/s]\u001b[A\n",
            " 25%|██▌       | 69/274 [00:31<00:56,  3.65it/s]\u001b[A\n",
            " 26%|██▌       | 70/274 [00:31<00:50,  4.06it/s]\u001b[A\n",
            " 26%|██▌       | 71/274 [00:31<00:53,  3.82it/s]\u001b[A\n",
            " 26%|██▋       | 72/274 [00:32<01:12,  2.77it/s]\u001b[A\n",
            " 27%|██▋       | 73/274 [00:32<01:02,  3.22it/s]\u001b[A\n",
            " 27%|██▋       | 74/274 [00:33<01:04,  3.12it/s]\u001b[A\n",
            " 27%|██▋       | 75/274 [00:33<00:51,  3.90it/s]\u001b[A\n",
            " 28%|██▊       | 76/274 [00:33<00:50,  3.95it/s]\u001b[A\n",
            " 28%|██▊       | 77/274 [00:33<00:56,  3.47it/s]\u001b[A\n",
            " 28%|██▊       | 78/274 [00:34<01:25,  2.29it/s]\u001b[A\n",
            " 29%|██▉       | 79/274 [00:34<01:18,  2.49it/s]\u001b[A\n",
            " 29%|██▉       | 80/274 [00:35<01:12,  2.66it/s]\u001b[A\n",
            " 30%|██▉       | 81/274 [00:35<01:03,  3.04it/s]\u001b[A\n",
            " 30%|██▉       | 82/274 [00:35<00:55,  3.47it/s]\u001b[A\n",
            " 30%|███       | 83/274 [00:35<00:57,  3.33it/s]\u001b[A\n",
            " 31%|███       | 84/274 [00:36<00:55,  3.45it/s]\u001b[A\n",
            " 31%|███       | 85/274 [00:36<01:13,  2.57it/s]\u001b[A\n",
            " 31%|███▏      | 86/274 [00:37<01:15,  2.49it/s]\u001b[A\n",
            " 32%|███▏      | 87/274 [00:37<01:03,  2.93it/s]\u001b[A\n",
            " 32%|███▏      | 89/274 [00:37<00:55,  3.35it/s]\u001b[A\n",
            " 33%|███▎      | 90/274 [00:38<00:51,  3.60it/s]\u001b[A\n",
            " 33%|███▎      | 91/274 [00:38<00:48,  3.77it/s]\u001b[A\n",
            " 34%|███▎      | 92/274 [00:38<00:50,  3.62it/s]\u001b[A\n",
            " 34%|███▍      | 93/274 [00:39<01:12,  2.49it/s]\u001b[A\n",
            " 34%|███▍      | 94/274 [00:39<01:02,  2.86it/s]\u001b[A\n",
            " 35%|███▍      | 95/274 [00:39<00:52,  3.42it/s]\u001b[A\n",
            " 35%|███▌      | 96/274 [00:39<00:48,  3.69it/s]\u001b[A\n",
            " 35%|███▌      | 97/274 [00:40<00:40,  4.35it/s]\u001b[A\n",
            " 36%|███▌      | 98/274 [00:40<00:43,  4.07it/s]\u001b[A\n",
            " 36%|███▌      | 99/274 [00:40<00:39,  4.43it/s]\u001b[A\n",
            " 36%|███▋      | 100/274 [00:40<00:42,  4.13it/s]\u001b[A\n",
            " 37%|███▋      | 101/274 [00:41<00:49,  3.51it/s]\u001b[A\n",
            " 37%|███▋      | 102/274 [00:41<00:42,  4.00it/s]\u001b[A\n",
            " 38%|███▊      | 103/274 [00:42<01:06,  2.56it/s]\u001b[A\n",
            " 38%|███▊      | 104/274 [00:42<01:03,  2.66it/s]\u001b[A\n",
            " 38%|███▊      | 105/274 [00:42<00:59,  2.82it/s]\u001b[A\n",
            " 39%|███▉      | 107/274 [00:42<00:49,  3.40it/s]\u001b[A\n",
            " 39%|███▉      | 108/274 [00:43<00:55,  2.99it/s]\u001b[A\n",
            " 40%|███▉      | 109/274 [00:43<00:51,  3.17it/s]\u001b[A\n",
            " 40%|████      | 110/274 [00:44<01:02,  2.64it/s]\u001b[A\n",
            " 41%|████      | 111/274 [00:44<01:11,  2.27it/s]\u001b[A\n",
            " 41%|████      | 112/274 [00:45<01:01,  2.63it/s]\u001b[A\n",
            " 41%|████      | 113/274 [00:46<01:30,  1.77it/s]\u001b[A\n",
            " 42%|████▏     | 114/274 [00:46<01:24,  1.90it/s]\u001b[A\n",
            " 42%|████▏     | 115/274 [00:46<01:15,  2.11it/s]\u001b[A\n",
            " 42%|████▏     | 116/274 [00:47<01:04,  2.46it/s]\u001b[A\n",
            " 43%|████▎     | 117/274 [00:47<00:56,  2.76it/s]\u001b[A\n",
            " 43%|████▎     | 118/274 [00:47<00:48,  3.20it/s]\u001b[A\n",
            " 43%|████▎     | 119/274 [00:47<00:44,  3.50it/s]\u001b[A\n",
            " 44%|████▍     | 120/274 [00:47<00:39,  3.94it/s]\u001b[A\n",
            " 44%|████▍     | 121/274 [00:48<00:46,  3.32it/s]\u001b[A\n",
            " 45%|████▍     | 122/274 [00:48<00:40,  3.75it/s]\u001b[A\n",
            " 45%|████▍     | 123/274 [00:48<00:37,  4.08it/s]\u001b[A\n",
            " 45%|████▌     | 124/274 [00:48<00:30,  4.88it/s]\u001b[A\n",
            " 46%|████▌     | 125/274 [00:49<00:46,  3.19it/s]\u001b[A\n",
            " 46%|████▌     | 126/274 [00:50<01:00,  2.46it/s]\u001b[A\n",
            " 46%|████▋     | 127/274 [00:51<01:32,  1.59it/s]\u001b[A\n",
            " 47%|████▋     | 128/274 [00:51<01:21,  1.80it/s]\u001b[A\n",
            " 47%|████▋     | 129/274 [00:52<01:20,  1.79it/s]\u001b[A\n",
            " 47%|████▋     | 130/274 [00:52<01:14,  1.94it/s]\u001b[A\n",
            " 48%|████▊     | 131/274 [00:52<01:05,  2.19it/s]\u001b[A\n",
            " 48%|████▊     | 132/274 [00:53<01:15,  1.88it/s]\u001b[A\n",
            " 49%|████▊     | 133/274 [00:53<01:02,  2.26it/s]\u001b[A\n",
            " 49%|████▉     | 134/274 [00:54<01:04,  2.16it/s]\u001b[A\n",
            " 49%|████▉     | 135/274 [00:54<00:57,  2.41it/s]\u001b[A\n",
            " 50%|████▉     | 136/274 [00:54<00:45,  3.05it/s]\u001b[A\n",
            " 50%|█████     | 137/274 [00:54<00:36,  3.73it/s]\u001b[A\n",
            " 50%|█████     | 138/274 [00:55<00:34,  3.92it/s]\u001b[A\n",
            " 51%|█████     | 139/274 [00:55<00:49,  2.73it/s]\u001b[A\n",
            " 51%|█████     | 140/274 [00:56<00:58,  2.30it/s]\u001b[A\n",
            " 51%|█████▏    | 141/274 [00:56<00:49,  2.71it/s]\u001b[A\n",
            " 52%|█████▏    | 142/274 [00:56<00:42,  3.12it/s]\u001b[A\n",
            " 52%|█████▏    | 143/274 [00:56<00:39,  3.28it/s]\u001b[A\n",
            " 53%|█████▎    | 144/274 [00:57<00:42,  3.07it/s]\u001b[A\n",
            " 53%|█████▎    | 145/274 [00:57<00:42,  3.03it/s]\u001b[A\n",
            " 53%|█████▎    | 146/274 [00:58<01:05,  1.96it/s]\u001b[A\n",
            " 54%|█████▎    | 147/274 [00:58<00:54,  2.33it/s]\u001b[A\n",
            " 54%|█████▍    | 148/274 [00:59<00:48,  2.61it/s]\u001b[A\n",
            " 55%|█████▍    | 150/274 [00:59<00:47,  2.61it/s]\u001b[A\n",
            " 55%|█████▌    | 151/274 [01:00<00:40,  3.05it/s]\u001b[A\n",
            " 55%|█████▌    | 152/274 [01:00<00:33,  3.64it/s]\u001b[A\n",
            " 56%|█████▌    | 153/274 [01:00<00:27,  4.44it/s]\u001b[A\n",
            " 56%|█████▌    | 154/274 [01:00<00:28,  4.19it/s]\u001b[A\n",
            " 57%|█████▋    | 155/274 [01:01<00:32,  3.69it/s]\u001b[A\n",
            " 57%|█████▋    | 156/274 [01:01<00:30,  3.84it/s]\u001b[A\n",
            " 57%|█████▋    | 157/274 [01:02<00:49,  2.35it/s]\u001b[A\n",
            " 58%|█████▊    | 158/274 [01:02<00:44,  2.61it/s]\u001b[A\n",
            " 58%|█████▊    | 159/274 [01:03<01:07,  1.69it/s]\u001b[A\n",
            " 58%|█████▊    | 160/274 [01:03<01:02,  1.82it/s]\u001b[A\n",
            " 59%|█████▉    | 161/274 [01:04<00:52,  2.14it/s]\u001b[A\n",
            " 59%|█████▉    | 162/274 [01:04<00:41,  2.71it/s]\u001b[A\n",
            " 59%|█████▉    | 163/274 [01:04<00:35,  3.13it/s]\u001b[A\n",
            " 60%|█████▉    | 164/274 [01:05<00:53,  2.05it/s]\u001b[A\n",
            " 60%|██████    | 165/274 [01:05<00:42,  2.59it/s]\u001b[A\n",
            " 61%|██████    | 166/274 [01:05<00:44,  2.42it/s]\u001b[A\n",
            " 61%|██████    | 167/274 [01:06<00:40,  2.62it/s]\u001b[A\n",
            " 61%|██████▏   | 168/274 [01:06<00:39,  2.67it/s]\u001b[A\n",
            " 62%|██████▏   | 169/274 [01:07<01:07,  1.54it/s]\u001b[A\n",
            " 62%|██████▏   | 170/274 [01:08<01:04,  1.62it/s]\u001b[A\n",
            " 62%|██████▏   | 171/274 [01:08<00:57,  1.80it/s]\u001b[A\n",
            " 63%|██████▎   | 172/274 [01:09<00:54,  1.87it/s]\u001b[A\n",
            " 63%|██████▎   | 173/274 [01:09<00:45,  2.24it/s]\u001b[A\n",
            " 64%|██████▎   | 174/274 [01:09<00:38,  2.57it/s]\u001b[A\n",
            " 64%|██████▍   | 175/274 [01:10<00:39,  2.52it/s]\u001b[A\n",
            " 64%|██████▍   | 176/274 [01:10<00:41,  2.35it/s]\u001b[A\n",
            " 65%|██████▍   | 177/274 [01:10<00:35,  2.77it/s]\u001b[A\n",
            " 65%|██████▍   | 178/274 [01:11<00:48,  1.97it/s]\u001b[A\n",
            " 65%|██████▌   | 179/274 [01:12<00:42,  2.21it/s]\u001b[A\n",
            " 66%|██████▌   | 180/274 [01:12<00:51,  1.82it/s]\u001b[A\n",
            " 66%|██████▌   | 181/274 [01:13<00:42,  2.17it/s]\u001b[A\n",
            " 66%|██████▋   | 182/274 [01:13<00:34,  2.64it/s]\u001b[A\n",
            " 67%|██████▋   | 183/274 [01:13<00:30,  3.02it/s]\u001b[A\n",
            " 67%|██████▋   | 184/274 [01:13<00:29,  3.03it/s]\u001b[A\n",
            " 68%|██████▊   | 185/274 [01:14<00:38,  2.30it/s]\u001b[A\n",
            " 68%|██████▊   | 186/274 [01:14<00:33,  2.62it/s]\u001b[A\n",
            " 68%|██████▊   | 187/274 [01:15<00:29,  2.94it/s]\u001b[A\n",
            " 69%|██████▊   | 188/274 [01:15<00:28,  3.03it/s]\u001b[A\n",
            " 69%|██████▉   | 189/274 [01:16<00:55,  1.54it/s]\u001b[A\n",
            " 69%|██████▉   | 190/274 [01:17<00:45,  1.83it/s]\u001b[A\n",
            " 70%|██████▉   | 191/274 [01:17<00:37,  2.23it/s]\u001b[A\n",
            " 70%|███████   | 192/274 [01:17<00:35,  2.33it/s]\u001b[A\n",
            " 70%|███████   | 193/274 [01:18<00:31,  2.60it/s]\u001b[A\n",
            " 71%|███████   | 194/274 [01:20<01:19,  1.01it/s]\u001b[A\n",
            " 71%|███████   | 195/274 [01:20<01:05,  1.20it/s]\u001b[A\n",
            " 72%|███████▏  | 196/274 [01:21<00:50,  1.54it/s]\u001b[A\n",
            " 72%|███████▏  | 197/274 [01:21<00:39,  1.96it/s]\u001b[A\n",
            " 72%|███████▏  | 198/274 [01:21<00:33,  2.24it/s]\u001b[A\n",
            " 73%|███████▎  | 199/274 [01:21<00:29,  2.54it/s]\u001b[A\n",
            " 73%|███████▎  | 200/274 [01:22<00:24,  2.97it/s]\u001b[A\n",
            " 73%|███████▎  | 201/274 [01:23<00:41,  1.76it/s]\u001b[A\n",
            " 74%|███████▎  | 202/274 [01:23<00:33,  2.13it/s]\u001b[A\n",
            " 74%|███████▍  | 203/274 [01:23<00:28,  2.47it/s]\u001b[A\n",
            " 74%|███████▍  | 204/274 [01:23<00:25,  2.70it/s]\u001b[A\n",
            " 75%|███████▍  | 205/274 [01:24<00:24,  2.82it/s]\u001b[A\n",
            " 75%|███████▌  | 206/274 [01:25<00:47,  1.42it/s]\u001b[A\n",
            " 76%|███████▌  | 207/274 [01:26<00:45,  1.46it/s]\u001b[A\n",
            " 76%|███████▌  | 208/274 [01:26<00:39,  1.66it/s]\u001b[A\n",
            " 76%|███████▋  | 209/274 [01:27<00:31,  2.04it/s]\u001b[A\n",
            " 77%|███████▋  | 211/274 [01:27<00:25,  2.45it/s]\u001b[A\n",
            " 77%|███████▋  | 212/274 [01:27<00:23,  2.65it/s]\u001b[A\n",
            " 78%|███████▊  | 213/274 [01:27<00:18,  3.30it/s]\u001b[A\n",
            " 78%|███████▊  | 214/274 [01:28<00:20,  2.94it/s]\u001b[A\n",
            " 78%|███████▊  | 215/274 [01:28<00:16,  3.66it/s]\u001b[A\n",
            " 79%|███████▉  | 216/274 [01:28<00:18,  3.09it/s]\u001b[A\n",
            " 79%|███████▉  | 217/274 [01:29<00:19,  2.91it/s]\u001b[A\n",
            " 80%|███████▉  | 218/274 [01:29<00:20,  2.73it/s]\u001b[A\n",
            " 80%|███████▉  | 219/274 [01:30<00:24,  2.25it/s]\u001b[A\n",
            " 80%|████████  | 220/274 [01:30<00:20,  2.67it/s]\u001b[A\n",
            " 81%|████████  | 221/274 [01:30<00:18,  2.91it/s]\u001b[A\n",
            " 81%|████████  | 222/274 [01:31<00:23,  2.22it/s]\u001b[A\n",
            " 81%|████████▏ | 223/274 [01:31<00:19,  2.62it/s]\u001b[A\n",
            " 82%|████████▏ | 224/274 [01:31<00:16,  3.00it/s]\u001b[A\n",
            " 82%|████████▏ | 225/274 [01:32<00:15,  3.26it/s]\u001b[A\n",
            " 82%|████████▏ | 226/274 [01:32<00:18,  2.53it/s]\u001b[A\n",
            " 83%|████████▎ | 227/274 [01:33<00:23,  1.98it/s]\u001b[A\n",
            " 83%|████████▎ | 228/274 [01:33<00:19,  2.40it/s]\u001b[A\n",
            " 84%|████████▎ | 229/274 [01:34<00:17,  2.57it/s]\u001b[A\n",
            " 84%|████████▍ | 230/274 [01:34<00:15,  2.82it/s]\u001b[A\n",
            " 84%|████████▍ | 231/274 [01:34<00:13,  3.20it/s]\u001b[A\n",
            " 85%|████████▍ | 232/274 [01:34<00:11,  3.50it/s]\u001b[A\n",
            " 85%|████████▌ | 233/274 [01:35<00:11,  3.71it/s]\u001b[A\n",
            " 85%|████████▌ | 234/274 [01:35<00:10,  3.78it/s]\u001b[A\n",
            " 86%|████████▌ | 235/274 [01:35<00:10,  3.77it/s]\u001b[A\n",
            " 86%|████████▌ | 236/274 [01:35<00:10,  3.71it/s]\u001b[A\n",
            " 86%|████████▋ | 237/274 [01:36<00:13,  2.77it/s]\u001b[A\n",
            " 87%|████████▋ | 238/274 [01:36<00:11,  3.06it/s]\u001b[A\n",
            " 87%|████████▋ | 239/274 [01:37<00:15,  2.26it/s]\u001b[A\n",
            " 88%|████████▊ | 240/274 [01:37<00:11,  2.93it/s]\u001b[A\n",
            " 88%|████████▊ | 241/274 [01:38<00:17,  1.85it/s]\u001b[A\n",
            " 88%|████████▊ | 242/274 [01:39<00:24,  1.33it/s]\u001b[A\n",
            " 89%|████████▊ | 243/274 [01:40<00:21,  1.47it/s]\u001b[A\n",
            " 89%|████████▉ | 244/274 [01:40<00:18,  1.62it/s]\u001b[A\n",
            " 89%|████████▉ | 245/274 [01:40<00:14,  1.98it/s]\u001b[A\n",
            " 90%|████████▉ | 246/274 [01:41<00:14,  1.92it/s]\u001b[A\n",
            " 90%|█████████ | 247/274 [01:41<00:12,  2.08it/s]\u001b[A\n",
            " 91%|█████████ | 248/274 [01:42<00:09,  2.60it/s]\u001b[A\n",
            " 91%|█████████ | 249/274 [01:42<00:08,  2.79it/s]\u001b[A\n",
            " 91%|█████████ | 250/274 [01:42<00:07,  3.21it/s]\u001b[A\n",
            " 92%|█████████▏| 251/274 [01:43<00:10,  2.11it/s]\u001b[A\n",
            " 92%|█████████▏| 252/274 [01:43<00:08,  2.58it/s]\u001b[A\n",
            " 92%|█████████▏| 253/274 [01:43<00:07,  2.98it/s]\u001b[A\n",
            " 93%|█████████▎| 254/274 [01:44<00:06,  3.19it/s]\u001b[A\n",
            " 93%|█████████▎| 255/274 [01:44<00:07,  2.70it/s]\u001b[A\n",
            " 93%|█████████▎| 256/274 [01:45<00:07,  2.38it/s]\u001b[A\n",
            " 94%|█████████▍| 257/274 [01:46<00:13,  1.28it/s]\u001b[A\n",
            " 94%|█████████▍| 258/274 [01:47<00:10,  1.57it/s]\u001b[A\n",
            " 95%|█████████▍| 259/274 [01:47<00:07,  1.97it/s]\u001b[A\n",
            " 95%|█████████▍| 260/274 [01:47<00:05,  2.45it/s]\u001b[A\n",
            " 95%|█████████▌| 261/274 [01:47<00:04,  3.06it/s]\u001b[A\n",
            " 96%|█████████▌| 262/274 [01:48<00:06,  1.97it/s]\u001b[A\n",
            " 96%|█████████▌| 263/274 [01:48<00:04,  2.46it/s]\u001b[A\n",
            " 96%|█████████▋| 264/274 [01:49<00:05,  1.88it/s]\u001b[A\n",
            " 97%|█████████▋| 265/274 [01:49<00:04,  2.09it/s]\u001b[A\n",
            " 97%|█████████▋| 266/274 [01:50<00:03,  2.28it/s]\u001b[A\n",
            " 97%|█████████▋| 267/274 [01:50<00:02,  2.72it/s]\u001b[A\n",
            " 98%|█████████▊| 268/274 [01:50<00:02,  2.91it/s]\u001b[A\n",
            " 98%|█████████▊| 269/274 [01:51<00:01,  2.85it/s]\u001b[A\n",
            " 99%|█████████▊| 270/274 [01:51<00:01,  3.32it/s]\u001b[A\n",
            " 99%|█████████▉| 271/274 [01:51<00:00,  3.07it/s]\u001b[A\n",
            " 99%|█████████▉| 272/274 [01:51<00:00,  3.34it/s]\u001b[A\n",
            "100%|█████████▉| 273/274 [01:52<00:00,  2.89it/s]\u001b[A\n",
            "100%|██████████| 274/274 [01:52<00:00,  2.93it/s]\u001b[A\n",
            "  7%|▋         | 1/15 [02:04<29:07, 124.80s/it]\n",
            "  0%|          | 0/274 [00:00<?, ?it/s]\u001b[A"
          ],
          "name": "stderr"
        },
        {
          "output_type": "stream",
          "text": [
            "Epoch: 01 | Epoch Time: 2m 4s\n",
            "\tTrain Loss: 0.630 | Train Acc: 63.93%\n",
            "\t Val. Loss: 0.656 |  Val. Acc: 49.22%\n"
          ],
          "name": "stdout"
        },
        {
          "output_type": "stream",
          "text": [
            "\n",
            "  0%|          | 1/274 [00:01<05:49,  1.28s/it]\u001b[A\n",
            "  1%|          | 2/274 [00:01<04:26,  1.02it/s]\u001b[A\n",
            "  1%|          | 3/274 [00:01<03:28,  1.30it/s]\u001b[A\n",
            "  1%|▏         | 4/274 [00:02<02:56,  1.53it/s]\u001b[A\n",
            "  2%|▏         | 5/274 [00:02<02:28,  1.82it/s]\u001b[A\n",
            "  2%|▏         | 6/274 [00:03<02:41,  1.66it/s]\u001b[A\n",
            "  3%|▎         | 7/274 [00:03<02:34,  1.73it/s]\u001b[A\n",
            "  3%|▎         | 8/274 [00:04<02:27,  1.81it/s]\u001b[A\n",
            "  3%|▎         | 9/274 [00:04<02:36,  1.69it/s]\u001b[A\n",
            "  4%|▎         | 10/274 [00:05<02:12,  2.00it/s]\u001b[A\n",
            "  4%|▍         | 11/274 [00:05<01:47,  2.45it/s]\u001b[A\n",
            "  4%|▍         | 12/274 [00:05<01:32,  2.85it/s]\u001b[A\n",
            "  5%|▍         | 13/274 [00:06<01:45,  2.47it/s]\u001b[A\n",
            "  5%|▌         | 14/274 [00:06<01:58,  2.19it/s]\u001b[A\n",
            "  5%|▌         | 15/274 [00:07<01:59,  2.17it/s]\u001b[A\n",
            "  6%|▌         | 16/274 [00:08<02:45,  1.56it/s]\u001b[A\n",
            "  6%|▌         | 17/274 [00:08<02:05,  2.04it/s]\u001b[A\n",
            "  7%|▋         | 18/274 [00:08<01:43,  2.47it/s]\u001b[A\n",
            "  7%|▋         | 19/274 [00:08<01:23,  3.06it/s]\u001b[A\n",
            "  7%|▋         | 20/274 [00:09<01:17,  3.27it/s]\u001b[A\n",
            "  8%|▊         | 21/274 [00:09<01:11,  3.56it/s]\u001b[A\n",
            "  8%|▊         | 22/274 [00:09<01:27,  2.87it/s]\u001b[A\n",
            "  8%|▊         | 23/274 [00:10<02:08,  1.95it/s]\u001b[A\n",
            "  9%|▉         | 24/274 [00:11<02:05,  1.99it/s]\u001b[A\n",
            "  9%|▉         | 25/274 [00:11<01:53,  2.19it/s]\u001b[A\n",
            "  9%|▉         | 26/274 [00:12<02:06,  1.96it/s]\u001b[A\n",
            " 10%|▉         | 27/274 [00:12<01:51,  2.22it/s]\u001b[A\n",
            " 10%|█         | 28/274 [00:12<01:51,  2.21it/s]\u001b[A\n",
            " 11%|█         | 29/274 [00:13<01:51,  2.19it/s]\u001b[A\n",
            " 11%|█         | 30/274 [00:13<01:35,  2.54it/s]\u001b[A\n",
            " 11%|█▏        | 31/274 [00:13<01:19,  3.07it/s]\u001b[A\n",
            " 12%|█▏        | 33/274 [00:14<01:11,  3.37it/s]\u001b[A\n",
            " 12%|█▏        | 34/274 [00:14<01:04,  3.74it/s]\u001b[A\n",
            " 13%|█▎        | 35/274 [00:14<01:05,  3.66it/s]\u001b[A\n",
            " 13%|█▎        | 36/274 [00:14<00:59,  3.99it/s]\u001b[A\n",
            " 14%|█▎        | 37/274 [00:15<00:56,  4.19it/s]\u001b[A\n",
            " 14%|█▍        | 38/274 [00:15<00:52,  4.49it/s]\u001b[A\n",
            " 14%|█▍        | 39/274 [00:15<00:57,  4.05it/s]\u001b[A\n",
            " 15%|█▍        | 40/274 [00:16<01:27,  2.67it/s]\u001b[A\n",
            " 15%|█▍        | 41/274 [00:16<01:17,  3.02it/s]\u001b[A\n",
            " 15%|█▌        | 42/274 [00:16<01:17,  3.01it/s]\u001b[A\n",
            " 16%|█▌        | 43/274 [00:17<01:12,  3.21it/s]\u001b[A\n",
            " 16%|█▌        | 44/274 [00:17<01:09,  3.33it/s]\u001b[A\n",
            " 16%|█▋        | 45/274 [00:17<01:29,  2.56it/s]\u001b[A\n",
            " 17%|█▋        | 46/274 [00:18<01:19,  2.88it/s]\u001b[A\n",
            " 17%|█▋        | 47/274 [00:18<01:19,  2.86it/s]\u001b[A\n",
            " 18%|█▊        | 48/274 [00:18<01:10,  3.20it/s]\u001b[A\n",
            " 18%|█▊        | 49/274 [00:19<01:05,  3.43it/s]\u001b[A\n",
            " 18%|█▊        | 50/274 [00:19<01:40,  2.24it/s]\u001b[A\n",
            " 19%|█▊        | 51/274 [00:20<01:26,  2.58it/s]\u001b[A\n",
            " 19%|█▉        | 52/274 [00:22<03:12,  1.15it/s]\u001b[A\n",
            " 19%|█▉        | 53/274 [00:22<02:28,  1.49it/s]\u001b[A\n",
            " 20%|█▉        | 54/274 [00:23<02:49,  1.29it/s]\u001b[A\n",
            " 20%|██        | 55/274 [00:24<02:48,  1.30it/s]\u001b[A\n",
            " 20%|██        | 56/274 [00:24<02:17,  1.59it/s]\u001b[A\n",
            " 21%|██        | 57/274 [00:25<02:37,  1.38it/s]\u001b[A\n",
            " 21%|██        | 58/274 [00:25<02:17,  1.57it/s]\u001b[A\n",
            " 22%|██▏       | 59/274 [00:26<02:00,  1.79it/s]\u001b[A\n",
            " 22%|██▏       | 60/274 [00:26<01:39,  2.15it/s]\u001b[A\n",
            " 22%|██▏       | 61/274 [00:27<02:41,  1.32it/s]\u001b[A\n",
            " 23%|██▎       | 62/274 [00:28<02:14,  1.57it/s]\u001b[A\n",
            " 23%|██▎       | 63/274 [00:28<02:01,  1.74it/s]\u001b[A\n",
            " 23%|██▎       | 64/274 [00:28<01:40,  2.08it/s]\u001b[A\n",
            " 24%|██▎       | 65/274 [00:29<01:18,  2.67it/s]\u001b[A\n",
            " 24%|██▍       | 66/274 [00:29<01:20,  2.59it/s]\u001b[A\n",
            " 24%|██▍       | 67/274 [00:29<01:17,  2.68it/s]\u001b[A\n",
            " 25%|██▍       | 68/274 [00:30<02:05,  1.64it/s]\u001b[A\n",
            " 25%|██▌       | 69/274 [00:31<01:42,  2.00it/s]\u001b[A\n",
            " 26%|██▌       | 70/274 [00:31<01:24,  2.40it/s]\u001b[A\n",
            " 26%|██▌       | 71/274 [00:31<01:06,  3.07it/s]\u001b[A\n",
            " 26%|██▋       | 72/274 [00:31<00:59,  3.41it/s]\u001b[A\n",
            " 27%|██▋       | 73/274 [00:32<01:00,  3.34it/s]\u001b[A\n",
            " 27%|██▋       | 74/274 [00:32<01:00,  3.33it/s]\u001b[A\n",
            " 27%|██▋       | 75/274 [00:32<00:52,  3.79it/s]\u001b[A\n",
            " 28%|██▊       | 76/274 [00:33<01:26,  2.30it/s]\u001b[A\n",
            " 28%|██▊       | 77/274 [00:33<01:21,  2.42it/s]\u001b[A\n",
            " 28%|██▊       | 78/274 [00:33<01:11,  2.73it/s]\u001b[A\n",
            " 29%|██▉       | 79/274 [00:34<01:08,  2.83it/s]\u001b[A\n",
            " 29%|██▉       | 80/274 [00:34<00:58,  3.29it/s]\u001b[A\n",
            " 30%|██▉       | 81/274 [00:34<00:55,  3.46it/s]\u001b[A\n",
            " 30%|██▉       | 82/274 [00:34<00:53,  3.59it/s]\u001b[A\n",
            " 31%|███       | 84/274 [00:35<01:00,  3.13it/s]\u001b[A\n",
            " 31%|███       | 85/274 [00:36<00:55,  3.40it/s]\u001b[A\n",
            " 31%|███▏      | 86/274 [00:36<01:03,  2.96it/s]\u001b[A\n",
            " 32%|███▏      | 87/274 [00:36<01:00,  3.09it/s]\u001b[A\n",
            " 32%|███▏      | 88/274 [00:37<00:55,  3.38it/s]\u001b[A\n",
            " 32%|███▏      | 89/274 [00:37<01:00,  3.05it/s]\u001b[A\n",
            " 33%|███▎      | 90/274 [00:37<00:53,  3.42it/s]\u001b[A\n",
            " 33%|███▎      | 91/274 [00:37<00:45,  4.01it/s]\u001b[A\n",
            " 34%|███▎      | 92/274 [00:37<00:43,  4.18it/s]\u001b[A\n",
            " 34%|███▍      | 93/274 [00:38<00:36,  4.96it/s]\u001b[A\n",
            " 34%|███▍      | 94/274 [00:38<00:33,  5.35it/s]\u001b[A\n",
            " 35%|███▍      | 95/274 [00:38<00:54,  3.29it/s]\u001b[A\n",
            " 35%|███▌      | 96/274 [00:39<01:12,  2.47it/s]\u001b[A\n",
            " 35%|███▌      | 97/274 [00:39<01:15,  2.34it/s]\u001b[A\n",
            " 36%|███▌      | 98/274 [00:40<01:12,  2.41it/s]\u001b[A\n",
            " 36%|███▌      | 99/274 [00:40<01:06,  2.65it/s]\u001b[A\n",
            " 36%|███▋      | 100/274 [00:41<01:16,  2.27it/s]\u001b[A\n",
            " 37%|███▋      | 101/274 [00:43<02:59,  1.04s/it]\u001b[A\n",
            " 37%|███▋      | 102/274 [00:44<02:50,  1.01it/s]\u001b[A\n",
            " 38%|███▊      | 103/274 [00:44<02:06,  1.35it/s]\u001b[A\n",
            " 38%|███▊      | 104/274 [00:44<01:43,  1.65it/s]\u001b[A\n",
            " 38%|███▊      | 105/274 [00:45<01:35,  1.77it/s]\u001b[A\n",
            " 39%|███▊      | 106/274 [00:45<01:23,  2.01it/s]\u001b[A\n",
            " 39%|███▉      | 107/274 [00:46<01:13,  2.28it/s]\u001b[A\n",
            " 39%|███▉      | 108/274 [00:46<01:09,  2.39it/s]\u001b[A\n",
            " 40%|███▉      | 109/274 [00:46<00:59,  2.76it/s]\u001b[A\n",
            " 40%|████      | 110/274 [00:46<00:53,  3.07it/s]\u001b[A\n",
            " 41%|████      | 111/274 [00:47<01:00,  2.71it/s]\u001b[A\n",
            " 41%|████      | 112/274 [00:47<00:51,  3.14it/s]\u001b[A\n",
            " 41%|████      | 113/274 [00:47<00:51,  3.14it/s]\u001b[A\n",
            " 42%|████▏     | 114/274 [00:48<00:47,  3.38it/s]\u001b[A\n",
            " 42%|████▏     | 115/274 [00:48<00:52,  3.01it/s]\u001b[A\n",
            " 42%|████▏     | 116/274 [00:48<00:50,  3.12it/s]\u001b[A\n",
            " 43%|████▎     | 117/274 [00:49<00:48,  3.27it/s]\u001b[A\n",
            " 43%|████▎     | 118/274 [00:49<00:46,  3.34it/s]\u001b[A\n",
            " 43%|████▎     | 119/274 [00:50<01:16,  2.02it/s]\u001b[A\n",
            " 44%|████▍     | 120/274 [00:50<01:02,  2.48it/s]\u001b[A\n",
            " 44%|████▍     | 121/274 [00:51<01:08,  2.24it/s]\u001b[A\n",
            " 45%|████▍     | 122/274 [00:51<01:03,  2.39it/s]\u001b[A\n",
            " 45%|████▍     | 123/274 [00:52<01:31,  1.64it/s]\u001b[A\n",
            " 45%|████▌     | 124/274 [00:52<01:17,  1.93it/s]\u001b[A\n",
            " 46%|████▌     | 125/274 [00:54<01:50,  1.35it/s]\u001b[A\n",
            " 46%|████▌     | 126/274 [00:54<01:27,  1.69it/s]\u001b[A\n",
            " 46%|████▋     | 127/274 [00:54<01:10,  2.08it/s]\u001b[A\n",
            " 47%|████▋     | 128/274 [00:54<00:57,  2.55it/s]\u001b[A\n",
            " 47%|████▋     | 129/274 [00:55<01:15,  1.92it/s]\u001b[A\n",
            " 47%|████▋     | 130/274 [00:56<01:21,  1.77it/s]\u001b[A\n",
            " 48%|████▊     | 131/274 [00:56<01:02,  2.30it/s]\u001b[A\n",
            " 48%|████▊     | 132/274 [00:56<00:54,  2.60it/s]\u001b[A\n",
            " 49%|████▊     | 133/274 [00:56<00:44,  3.18it/s]\u001b[A\n",
            " 49%|████▉     | 134/274 [00:56<00:39,  3.54it/s]\u001b[A\n",
            " 49%|████▉     | 135/274 [00:57<00:33,  4.18it/s]\u001b[A\n",
            " 50%|████▉     | 136/274 [00:57<00:33,  4.12it/s]\u001b[A\n",
            " 50%|█████     | 137/274 [00:57<00:39,  3.50it/s]\u001b[A\n",
            " 50%|█████     | 138/274 [00:58<00:37,  3.60it/s]\u001b[A\n",
            " 51%|█████     | 139/274 [00:59<01:13,  1.84it/s]\u001b[A\n",
            " 51%|█████     | 140/274 [00:59<01:08,  1.95it/s]\u001b[A\n",
            " 51%|█████▏    | 141/274 [01:00<01:08,  1.93it/s]\u001b[A\n",
            " 52%|█████▏    | 142/274 [01:00<01:11,  1.84it/s]\u001b[A\n",
            " 52%|█████▏    | 143/274 [01:00<00:54,  2.42it/s]\u001b[A\n",
            " 53%|█████▎    | 144/274 [01:01<00:45,  2.86it/s]\u001b[A\n",
            " 53%|█████▎    | 145/274 [01:01<00:39,  3.23it/s]\u001b[A\n",
            " 53%|█████▎    | 146/274 [01:01<00:38,  3.36it/s]\u001b[A\n",
            " 54%|█████▎    | 147/274 [01:01<00:34,  3.64it/s]\u001b[A\n",
            " 54%|█████▍    | 148/274 [01:01<00:32,  3.91it/s]\u001b[A\n",
            " 55%|█████▍    | 150/274 [01:02<00:29,  4.17it/s]\u001b[A\n",
            " 55%|█████▌    | 151/274 [01:02<00:35,  3.44it/s]\u001b[A\n",
            " 55%|█████▌    | 152/274 [01:03<00:52,  2.30it/s]\u001b[A\n",
            " 56%|█████▌    | 153/274 [01:03<00:48,  2.51it/s]\u001b[A\n",
            " 56%|█████▌    | 154/274 [01:04<00:41,  2.87it/s]\u001b[A\n",
            " 57%|█████▋    | 155/274 [01:04<00:38,  3.06it/s]\u001b[A\n",
            " 57%|█████▋    | 156/274 [01:04<00:43,  2.73it/s]\u001b[A\n",
            " 57%|█████▋    | 157/274 [01:05<00:40,  2.86it/s]\u001b[A\n",
            " 58%|█████▊    | 158/274 [01:05<00:52,  2.21it/s]\u001b[A\n",
            " 58%|█████▊    | 159/274 [01:06<00:42,  2.68it/s]\u001b[A\n",
            " 58%|█████▊    | 160/274 [01:06<00:36,  3.11it/s]\u001b[A\n",
            " 59%|█████▉    | 161/274 [01:06<00:40,  2.79it/s]\u001b[A\n",
            " 59%|█████▉    | 162/274 [01:07<00:53,  2.11it/s]\u001b[A\n",
            " 59%|█████▉    | 163/274 [01:08<00:56,  1.95it/s]\u001b[A\n",
            " 60%|█████▉    | 164/274 [01:08<00:47,  2.33it/s]\u001b[A\n",
            " 60%|██████    | 165/274 [01:08<00:48,  2.23it/s]\u001b[A\n",
            " 61%|██████    | 166/274 [01:09<00:47,  2.29it/s]\u001b[A\n",
            " 61%|██████    | 167/274 [01:09<00:36,  2.94it/s]\u001b[A\n",
            " 61%|██████▏   | 168/274 [01:10<00:47,  2.21it/s]\u001b[A\n",
            " 62%|██████▏   | 169/274 [01:10<00:40,  2.62it/s]\u001b[A\n",
            " 62%|██████▏   | 170/274 [01:10<00:33,  3.08it/s]\u001b[A\n",
            " 62%|██████▏   | 171/274 [01:10<00:38,  2.64it/s]\u001b[A\n",
            " 63%|██████▎   | 172/274 [01:11<00:37,  2.74it/s]\u001b[A\n",
            " 63%|██████▎   | 173/274 [01:11<00:33,  3.01it/s]\u001b[A\n",
            " 64%|██████▎   | 174/274 [01:11<00:31,  3.14it/s]\u001b[A\n",
            " 64%|██████▍   | 175/274 [01:12<00:29,  3.40it/s]\u001b[A\n",
            " 64%|██████▍   | 176/274 [01:12<00:45,  2.14it/s]\u001b[A\n",
            " 65%|██████▍   | 177/274 [01:13<00:48,  2.01it/s]\u001b[A\n",
            " 65%|██████▍   | 178/274 [01:13<00:40,  2.34it/s]\u001b[A\n",
            " 65%|██████▌   | 179/274 [01:14<00:36,  2.59it/s]\u001b[A\n",
            " 66%|██████▌   | 180/274 [01:14<00:37,  2.49it/s]\u001b[A\n",
            " 66%|██████▌   | 181/274 [01:14<00:40,  2.27it/s]\u001b[A\n",
            " 66%|██████▋   | 182/274 [01:15<00:38,  2.37it/s]\u001b[A\n",
            " 67%|██████▋   | 183/274 [01:16<01:04,  1.41it/s]\u001b[A\n",
            " 67%|██████▋   | 184/274 [01:17<00:54,  1.65it/s]\u001b[A\n",
            " 68%|██████▊   | 185/274 [01:17<00:54,  1.64it/s]\u001b[A\n",
            " 68%|██████▊   | 186/274 [01:17<00:42,  2.10it/s]\u001b[A\n",
            " 68%|██████▊   | 187/274 [01:18<00:35,  2.43it/s]\u001b[A\n",
            " 69%|██████▊   | 188/274 [01:18<00:30,  2.84it/s]\u001b[A\n",
            " 69%|██████▉   | 189/274 [01:18<00:27,  3.11it/s]\u001b[A\n",
            " 69%|██████▉   | 190/274 [01:19<00:32,  2.61it/s]\u001b[A\n",
            " 70%|██████▉   | 191/274 [01:19<00:28,  2.93it/s]\u001b[A\n",
            " 70%|███████   | 192/274 [01:19<00:27,  2.97it/s]\u001b[A\n",
            " 70%|███████   | 193/274 [01:19<00:24,  3.35it/s]\u001b[A\n",
            " 71%|███████   | 194/274 [01:20<00:22,  3.58it/s]\u001b[A\n",
            " 71%|███████   | 195/274 [01:20<00:19,  4.07it/s]\u001b[A\n",
            " 72%|███████▏  | 196/274 [01:20<00:28,  2.72it/s]\u001b[A\n",
            " 72%|███████▏  | 198/274 [01:21<00:24,  3.05it/s]\u001b[A\n",
            " 73%|███████▎  | 199/274 [01:22<00:39,  1.90it/s]\u001b[A\n",
            " 73%|███████▎  | 200/274 [01:22<00:35,  2.10it/s]\u001b[A\n",
            " 73%|███████▎  | 201/274 [01:23<00:29,  2.45it/s]\u001b[A\n",
            " 74%|███████▎  | 202/274 [01:23<00:23,  3.04it/s]\u001b[A\n",
            " 74%|███████▍  | 203/274 [01:23<00:21,  3.31it/s]\u001b[A\n",
            " 74%|███████▍  | 204/274 [01:24<00:41,  1.67it/s]\u001b[A\n",
            " 75%|███████▍  | 205/274 [01:25<00:43,  1.59it/s]\u001b[A\n",
            " 75%|███████▌  | 206/274 [01:25<00:33,  2.01it/s]\u001b[A\n",
            " 76%|███████▌  | 207/274 [01:26<00:31,  2.10it/s]\u001b[A\n",
            " 76%|███████▌  | 208/274 [01:26<00:26,  2.45it/s]\u001b[A\n",
            " 76%|███████▋  | 209/274 [01:27<00:48,  1.35it/s]\u001b[A\n",
            " 77%|███████▋  | 210/274 [01:28<00:37,  1.71it/s]\u001b[A\n",
            " 77%|███████▋  | 211/274 [01:28<00:29,  2.17it/s]\u001b[A\n",
            " 77%|███████▋  | 212/274 [01:28<00:27,  2.28it/s]\u001b[A\n",
            " 78%|███████▊  | 213/274 [01:28<00:24,  2.48it/s]\u001b[A\n",
            " 78%|███████▊  | 214/274 [01:29<00:26,  2.27it/s]\u001b[A\n",
            " 78%|███████▊  | 215/274 [01:29<00:23,  2.55it/s]\u001b[A\n",
            " 79%|███████▉  | 216/274 [01:30<00:24,  2.32it/s]\u001b[A\n",
            " 79%|███████▉  | 217/274 [01:30<00:24,  2.28it/s]\u001b[A\n",
            " 80%|███████▉  | 218/274 [01:30<00:21,  2.66it/s]\u001b[A\n",
            " 80%|███████▉  | 219/274 [01:31<00:19,  2.75it/s]\u001b[A\n",
            " 80%|████████  | 220/274 [01:31<00:22,  2.39it/s]\u001b[A\n",
            " 81%|████████  | 221/274 [01:32<00:30,  1.72it/s]\u001b[A\n",
            " 81%|████████  | 222/274 [01:32<00:24,  2.15it/s]\u001b[A\n",
            " 81%|████████▏ | 223/274 [01:33<00:19,  2.57it/s]\u001b[A\n",
            " 82%|████████▏ | 224/274 [01:33<00:16,  3.07it/s]\u001b[A\n",
            " 82%|████████▏ | 225/274 [01:33<00:15,  3.20it/s]\u001b[A\n",
            " 82%|████████▏ | 226/274 [01:33<00:14,  3.22it/s]\u001b[A\n",
            " 83%|████████▎ | 227/274 [01:34<00:13,  3.40it/s]\u001b[A\n",
            " 83%|████████▎ | 228/274 [01:35<00:32,  1.42it/s]\u001b[A\n",
            " 84%|████████▎ | 229/274 [01:36<00:25,  1.75it/s]\u001b[A\n",
            " 84%|████████▍ | 230/274 [01:36<00:22,  1.99it/s]\u001b[A\n",
            " 84%|████████▍ | 231/274 [01:36<00:17,  2.51it/s]\u001b[A\n",
            " 85%|████████▍ | 232/274 [01:37<00:26,  1.61it/s]\u001b[A\n",
            " 85%|████████▌ | 233/274 [01:37<00:20,  2.01it/s]\u001b[A\n",
            " 86%|████████▌ | 235/274 [01:38<00:16,  2.30it/s]\u001b[A\n",
            " 86%|████████▌ | 236/274 [01:39<00:20,  1.82it/s]\u001b[A\n",
            " 86%|████████▋ | 237/274 [01:39<00:17,  2.15it/s]\u001b[A\n",
            " 87%|████████▋ | 238/274 [01:40<00:18,  2.00it/s]\u001b[A\n",
            " 87%|████████▋ | 239/274 [01:40<00:18,  1.87it/s]\u001b[A\n",
            " 88%|████████▊ | 240/274 [01:41<00:17,  1.92it/s]\u001b[A\n",
            " 88%|████████▊ | 241/274 [01:41<00:14,  2.33it/s]\u001b[A\n",
            " 88%|████████▊ | 242/274 [01:42<00:17,  1.87it/s]\u001b[A\n",
            " 89%|████████▊ | 243/274 [01:42<00:14,  2.16it/s]\u001b[A\n",
            " 89%|████████▉ | 244/274 [01:42<00:13,  2.30it/s]\u001b[A\n",
            " 89%|████████▉ | 245/274 [01:43<00:11,  2.50it/s]\u001b[A\n",
            " 90%|████████▉ | 246/274 [01:43<00:09,  2.87it/s]\u001b[A\n",
            " 90%|█████████ | 247/274 [01:43<00:09,  2.95it/s]\u001b[A\n",
            " 91%|█████████ | 248/274 [01:44<00:08,  3.20it/s]\u001b[A\n",
            " 91%|█████████ | 249/274 [01:44<00:06,  3.59it/s]\u001b[A\n",
            " 91%|█████████ | 250/274 [01:44<00:05,  4.23it/s]\u001b[A\n",
            " 92%|█████████▏| 251/274 [01:45<00:08,  2.72it/s]\u001b[A\n",
            " 92%|█████████▏| 252/274 [01:45<00:08,  2.51it/s]\u001b[A\n",
            " 92%|█████████▏| 253/274 [01:46<00:12,  1.69it/s]\u001b[A\n",
            " 93%|█████████▎| 254/274 [01:46<00:08,  2.24it/s]\u001b[A\n",
            " 93%|█████████▎| 255/274 [01:47<00:10,  1.76it/s]\u001b[A\n",
            " 93%|█████████▎| 256/274 [01:47<00:08,  2.17it/s]\u001b[A\n",
            " 94%|█████████▍| 257/274 [01:48<00:06,  2.55it/s]\u001b[A\n",
            " 94%|█████████▍| 258/274 [01:48<00:05,  2.95it/s]\u001b[A\n",
            " 95%|█████████▍| 259/274 [01:48<00:04,  3.06it/s]\u001b[A\n",
            " 95%|█████████▍| 260/274 [01:48<00:04,  3.00it/s]\u001b[A\n",
            " 95%|█████████▌| 261/274 [01:49<00:04,  2.77it/s]\u001b[A\n",
            " 96%|█████████▌| 262/274 [01:49<00:04,  2.66it/s]\u001b[A\n",
            " 96%|█████████▌| 263/274 [01:50<00:04,  2.54it/s]\u001b[A\n",
            " 96%|█████████▋| 264/274 [01:50<00:04,  2.14it/s]\u001b[A\n",
            " 97%|█████████▋| 265/274 [01:51<00:03,  2.51it/s]\u001b[A\n",
            " 97%|█████████▋| 266/274 [01:51<00:02,  2.89it/s]\u001b[A\n",
            " 97%|█████████▋| 267/274 [01:51<00:02,  3.08it/s]\u001b[A\n",
            " 98%|█████████▊| 268/274 [01:51<00:02,  2.97it/s]\u001b[A\n",
            " 98%|█████████▊| 269/274 [01:52<00:01,  3.01it/s]\u001b[A\n",
            " 99%|█████████▊| 270/274 [01:52<00:01,  2.80it/s]\u001b[A\n",
            " 99%|█████████▉| 271/274 [01:52<00:00,  3.02it/s]\u001b[A\n",
            " 99%|█████████▉| 272/274 [01:53<00:00,  2.22it/s]\u001b[A\n",
            "100%|█████████▉| 273/274 [01:53<00:00,  2.82it/s]\u001b[A\n",
            "100%|██████████| 274/274 [01:53<00:00,  3.52it/s]\u001b[A\n",
            " 13%|█▎        | 2/15 [04:11<27:08, 125.30s/it]\n",
            "  0%|          | 0/274 [00:00<?, ?it/s]\u001b[A"
          ],
          "name": "stderr"
        },
        {
          "output_type": "stream",
          "text": [
            "Epoch: 02 | Epoch Time: 2m 6s\n",
            "\tTrain Loss: 0.521 | Train Acc: 75.30%\n",
            "\t Val. Loss: 0.462 |  Val. Acc: 79.07%\n"
          ],
          "name": "stdout"
        },
        {
          "output_type": "stream",
          "text": [
            "\n",
            "  0%|          | 1/274 [00:00<01:13,  3.72it/s]\u001b[A\n",
            "  1%|          | 2/274 [00:00<01:02,  4.36it/s]\u001b[A\n",
            "  1%|          | 3/274 [00:00<01:01,  4.44it/s]\u001b[A\n",
            "  1%|▏         | 4/274 [00:00<01:02,  4.30it/s]\u001b[A\n",
            "  2%|▏         | 5/274 [00:01<01:02,  4.33it/s]\u001b[A\n",
            "  2%|▏         | 6/274 [00:01<01:08,  3.93it/s]\u001b[A\n",
            "  3%|▎         | 7/274 [00:01<00:59,  4.46it/s]\u001b[A\n",
            "  3%|▎         | 8/274 [00:01<00:58,  4.53it/s]\u001b[A\n",
            "  3%|▎         | 9/274 [00:02<02:18,  1.92it/s]\u001b[A\n",
            "  4%|▎         | 10/274 [00:03<02:44,  1.61it/s]\u001b[A\n",
            "  4%|▍         | 11/274 [00:04<02:34,  1.70it/s]\u001b[A\n",
            "  4%|▍         | 12/274 [00:04<02:06,  2.07it/s]\u001b[A\n",
            "  5%|▍         | 13/274 [00:04<01:43,  2.51it/s]\u001b[A\n",
            "  5%|▌         | 14/274 [00:04<01:21,  3.20it/s]\u001b[A\n",
            "  5%|▌         | 15/274 [00:05<01:28,  2.94it/s]\u001b[A\n",
            "  6%|▌         | 16/274 [00:05<01:26,  2.98it/s]\u001b[A\n",
            "  6%|▌         | 17/274 [00:05<01:21,  3.14it/s]\u001b[A\n",
            "  7%|▋         | 18/274 [00:07<02:43,  1.56it/s]\u001b[A\n",
            "  7%|▋         | 19/274 [00:07<02:19,  1.83it/s]\u001b[A\n",
            "  7%|▋         | 20/274 [00:08<02:28,  1.71it/s]\u001b[A\n",
            "  8%|▊         | 21/274 [00:08<02:09,  1.96it/s]\u001b[A\n",
            "  8%|▊         | 22/274 [00:09<02:30,  1.67it/s]\u001b[A\n",
            "  8%|▊         | 23/274 [00:10<02:30,  1.67it/s]\u001b[A\n",
            "  9%|▉         | 24/274 [00:10<02:02,  2.05it/s]\u001b[A\n",
            "  9%|▉         | 25/274 [00:10<01:35,  2.62it/s]\u001b[A\n",
            "  9%|▉         | 26/274 [00:10<01:32,  2.67it/s]\u001b[A\n",
            " 10%|▉         | 27/274 [00:11<01:24,  2.92it/s]\u001b[A\n",
            " 10%|█         | 28/274 [00:11<01:15,  3.24it/s]\u001b[A\n",
            " 11%|█         | 29/274 [00:11<01:16,  3.21it/s]\u001b[A\n",
            " 11%|█         | 30/274 [00:11<01:19,  3.09it/s]\u001b[A\n",
            " 11%|█▏        | 31/274 [00:12<01:13,  3.30it/s]\u001b[A\n",
            " 12%|█▏        | 32/274 [00:12<01:23,  2.91it/s]\u001b[A\n",
            " 12%|█▏        | 33/274 [00:12<01:13,  3.26it/s]\u001b[A\n",
            " 12%|█▏        | 34/274 [00:13<01:11,  3.34it/s]\u001b[A\n",
            " 13%|█▎        | 35/274 [00:13<01:01,  3.88it/s]\u001b[A\n",
            " 13%|█▎        | 36/274 [00:13<01:15,  3.13it/s]\u001b[A\n",
            " 14%|█▎        | 37/274 [00:13<01:07,  3.50it/s]\u001b[A\n",
            " 14%|█▍        | 38/274 [00:14<00:58,  4.01it/s]\u001b[A\n",
            " 14%|█▍        | 39/274 [00:14<01:06,  3.53it/s]\u001b[A\n",
            " 15%|█▍        | 40/274 [00:14<01:16,  3.07it/s]\u001b[A\n",
            " 15%|█▍        | 41/274 [00:15<01:46,  2.19it/s]\u001b[A\n",
            " 15%|█▌        | 42/274 [00:15<01:27,  2.64it/s]\u001b[A\n",
            " 16%|█▌        | 43/274 [00:16<01:19,  2.92it/s]\u001b[A\n",
            " 16%|█▌        | 44/274 [00:16<01:16,  3.02it/s]\u001b[A\n",
            " 16%|█▋        | 45/274 [00:17<02:00,  1.90it/s]\u001b[A\n",
            " 17%|█▋        | 46/274 [00:17<01:46,  2.14it/s]\u001b[A\n",
            " 17%|█▋        | 47/274 [00:17<01:28,  2.56it/s]\u001b[A\n",
            " 18%|█▊        | 48/274 [00:18<01:34,  2.39it/s]\u001b[A\n",
            " 18%|█▊        | 49/274 [00:18<01:22,  2.73it/s]\u001b[A\n",
            " 18%|█▊        | 50/274 [00:19<01:22,  2.71it/s]\u001b[A\n",
            " 19%|█▊        | 51/274 [00:19<01:29,  2.49it/s]\u001b[A\n",
            " 19%|█▉        | 52/274 [00:19<01:21,  2.71it/s]\u001b[A\n",
            " 19%|█▉        | 53/274 [00:20<01:10,  3.11it/s]\u001b[A\n",
            " 20%|█▉        | 54/274 [00:20<01:08,  3.21it/s]\u001b[A\n",
            " 20%|██        | 55/274 [00:20<01:16,  2.86it/s]\u001b[A\n",
            " 20%|██        | 56/274 [00:20<01:07,  3.24it/s]\u001b[A\n",
            " 21%|██        | 57/274 [00:21<00:59,  3.67it/s]\u001b[A\n",
            " 21%|██        | 58/274 [00:21<00:55,  3.89it/s]\u001b[A\n",
            " 22%|██▏       | 59/274 [00:21<01:03,  3.37it/s]\u001b[A\n",
            " 22%|██▏       | 60/274 [00:22<01:18,  2.72it/s]\u001b[A\n",
            " 22%|██▏       | 61/274 [00:22<01:20,  2.63it/s]\u001b[A\n",
            " 23%|██▎       | 62/274 [00:22<01:13,  2.89it/s]\u001b[A\n",
            " 23%|██▎       | 64/274 [00:23<00:59,  3.55it/s]\u001b[A\n",
            " 24%|██▎       | 65/274 [00:23<01:18,  2.68it/s]\u001b[A\n",
            " 24%|██▍       | 66/274 [00:24<01:04,  3.20it/s]\u001b[A\n",
            " 24%|██▍       | 67/274 [00:24<00:52,  3.95it/s]\u001b[A\n",
            " 25%|██▌       | 69/274 [00:24<00:46,  4.45it/s]\u001b[A\n",
            " 26%|██▌       | 70/274 [00:24<00:47,  4.31it/s]\u001b[A\n",
            " 26%|██▌       | 71/274 [00:25<01:15,  2.68it/s]\u001b[A\n",
            " 26%|██▋       | 72/274 [00:25<01:20,  2.52it/s]\u001b[A\n",
            " 27%|██▋       | 73/274 [00:26<01:52,  1.79it/s]\u001b[A\n",
            " 27%|██▋       | 74/274 [00:27<01:35,  2.09it/s]\u001b[A\n",
            " 27%|██▋       | 75/274 [00:27<01:21,  2.44it/s]\u001b[A\n",
            " 28%|██▊       | 76/274 [00:27<01:08,  2.89it/s]\u001b[A\n",
            " 28%|██▊       | 77/274 [00:28<01:24,  2.33it/s]\u001b[A\n",
            " 28%|██▊       | 78/274 [00:28<01:14,  2.62it/s]\u001b[A\n",
            " 29%|██▉       | 79/274 [00:29<01:44,  1.86it/s]\u001b[A\n",
            " 29%|██▉       | 80/274 [00:31<03:30,  1.08s/it]\u001b[A\n",
            " 30%|██▉       | 81/274 [00:32<03:30,  1.09s/it]\u001b[A\n",
            " 30%|██▉       | 82/274 [00:33<02:39,  1.20it/s]\u001b[A\n",
            " 30%|███       | 83/274 [00:34<02:51,  1.12it/s]\u001b[A\n",
            " 31%|███       | 84/274 [00:34<02:15,  1.40it/s]\u001b[A\n",
            " 31%|███       | 85/274 [00:34<02:04,  1.52it/s]\u001b[A\n",
            " 31%|███▏      | 86/274 [00:35<01:37,  1.92it/s]\u001b[A\n",
            " 32%|███▏      | 87/274 [00:35<01:52,  1.67it/s]\u001b[A\n",
            " 32%|███▏      | 88/274 [00:36<01:55,  1.62it/s]\u001b[A\n",
            " 32%|███▏      | 89/274 [00:37<01:51,  1.66it/s]\u001b[A\n",
            " 33%|███▎      | 90/274 [00:37<01:35,  1.92it/s]\u001b[A\n",
            " 33%|███▎      | 91/274 [00:38<01:47,  1.71it/s]\u001b[A\n",
            " 34%|███▎      | 92/274 [00:38<01:32,  1.96it/s]\u001b[A\n",
            " 34%|███▍      | 93/274 [00:38<01:20,  2.25it/s]\u001b[A\n",
            " 34%|███▍      | 94/274 [00:39<01:15,  2.38it/s]\u001b[A\n",
            " 35%|███▍      | 95/274 [00:39<01:23,  2.15it/s]\u001b[A\n",
            " 35%|███▌      | 96/274 [00:39<01:11,  2.48it/s]\u001b[A\n",
            " 35%|███▌      | 97/274 [00:40<01:10,  2.50it/s]\u001b[A\n",
            " 36%|███▌      | 98/274 [00:40<01:17,  2.28it/s]\u001b[A\n",
            " 36%|███▌      | 99/274 [00:41<01:08,  2.55it/s]\u001b[A\n",
            " 36%|███▋      | 100/274 [00:41<01:14,  2.35it/s]\u001b[A\n",
            " 37%|███▋      | 101/274 [00:41<01:04,  2.66it/s]\u001b[A\n",
            " 37%|███▋      | 102/274 [00:42<00:54,  3.13it/s]\u001b[A\n",
            " 38%|███▊      | 103/274 [00:42<00:58,  2.91it/s]\u001b[A\n",
            " 38%|███▊      | 104/274 [00:42<00:59,  2.84it/s]\u001b[A\n",
            " 38%|███▊      | 105/274 [00:43<01:07,  2.49it/s]\u001b[A\n",
            " 39%|███▊      | 106/274 [00:43<01:00,  2.78it/s]\u001b[A\n",
            " 39%|███▉      | 107/274 [00:43<00:57,  2.93it/s]\u001b[A\n",
            " 39%|███▉      | 108/274 [00:44<01:07,  2.46it/s]\u001b[A\n",
            " 40%|███▉      | 109/274 [00:45<01:25,  1.92it/s]\u001b[A\n",
            " 40%|████      | 110/274 [00:45<01:08,  2.39it/s]\u001b[A\n",
            " 41%|████      | 111/274 [00:45<01:04,  2.54it/s]\u001b[A\n",
            " 41%|████      | 112/274 [00:46<00:58,  2.78it/s]\u001b[A\n",
            " 41%|████      | 113/274 [00:46<00:46,  3.47it/s]\u001b[A\n",
            " 42%|████▏     | 114/274 [00:46<00:46,  3.42it/s]\u001b[A\n",
            " 42%|████▏     | 115/274 [00:46<00:39,  4.00it/s]\u001b[A\n",
            " 42%|████▏     | 116/274 [00:47<00:42,  3.69it/s]\u001b[A\n",
            " 43%|████▎     | 117/274 [00:47<00:47,  3.30it/s]\u001b[A\n",
            " 43%|████▎     | 118/274 [00:47<00:52,  2.99it/s]\u001b[A\n",
            " 43%|████▎     | 119/274 [00:48<00:46,  3.32it/s]\u001b[A\n",
            " 44%|████▍     | 120/274 [00:48<00:54,  2.83it/s]\u001b[A\n",
            " 44%|████▍     | 121/274 [00:48<00:59,  2.56it/s]\u001b[A\n",
            " 45%|████▍     | 122/274 [00:49<00:55,  2.75it/s]\u001b[A\n",
            " 45%|████▍     | 123/274 [00:49<00:49,  3.06it/s]\u001b[A\n",
            " 45%|████▌     | 124/274 [00:49<00:44,  3.41it/s]\u001b[A\n",
            " 46%|████▌     | 125/274 [00:49<00:42,  3.55it/s]\u001b[A\n",
            " 46%|████▌     | 126/274 [00:51<01:26,  1.71it/s]\u001b[A\n",
            " 46%|████▋     | 127/274 [00:51<01:09,  2.12it/s]\u001b[A\n",
            " 47%|████▋     | 128/274 [00:52<01:12,  2.01it/s]\u001b[A\n",
            " 47%|████▋     | 129/274 [00:52<00:56,  2.56it/s]\u001b[A\n",
            " 47%|████▋     | 130/274 [00:52<00:50,  2.82it/s]\u001b[A\n",
            " 48%|████▊     | 131/274 [00:52<00:42,  3.36it/s]\u001b[A\n",
            " 48%|████▊     | 132/274 [00:52<00:39,  3.60it/s]\u001b[A\n",
            " 49%|████▉     | 134/274 [00:54<00:59,  2.37it/s]\u001b[A\n",
            " 49%|████▉     | 135/274 [00:54<00:48,  2.85it/s]\u001b[A\n",
            " 50%|████▉     | 136/274 [00:54<00:47,  2.93it/s]\u001b[A\n",
            " 50%|█████     | 137/274 [00:55<00:47,  2.87it/s]\u001b[A\n",
            " 50%|█████     | 138/274 [00:55<00:58,  2.34it/s]\u001b[A\n",
            " 51%|█████     | 139/274 [00:56<00:52,  2.55it/s]\u001b[A\n",
            " 51%|█████     | 140/274 [00:56<01:05,  2.05it/s]\u001b[A\n",
            " 51%|█████▏    | 141/274 [00:57<01:02,  2.12it/s]\u001b[A\n",
            " 52%|█████▏    | 142/274 [00:57<00:52,  2.52it/s]\u001b[A\n",
            " 52%|█████▏    | 143/274 [00:57<00:40,  3.23it/s]\u001b[A\n",
            " 53%|█████▎    | 144/274 [00:58<00:46,  2.82it/s]\u001b[A\n",
            " 53%|█████▎    | 145/274 [00:58<00:42,  3.04it/s]\u001b[A\n",
            " 53%|█████▎    | 146/274 [00:58<00:35,  3.60it/s]\u001b[A\n",
            " 54%|█████▎    | 147/274 [00:58<00:32,  3.89it/s]\u001b[A\n",
            " 54%|█████▍    | 148/274 [00:59<00:46,  2.69it/s]\u001b[A\n",
            " 54%|█████▍    | 149/274 [00:59<00:42,  2.95it/s]\u001b[A\n",
            " 55%|█████▍    | 150/274 [01:00<00:46,  2.69it/s]\u001b[A\n",
            " 55%|█████▌    | 151/274 [01:00<00:39,  3.08it/s]\u001b[A\n",
            " 55%|█████▌    | 152/274 [01:00<00:37,  3.27it/s]\u001b[A\n",
            " 56%|█████▌    | 153/274 [01:00<00:38,  3.17it/s]\u001b[A\n",
            " 56%|█████▌    | 154/274 [01:01<00:41,  2.88it/s]\u001b[A\n",
            " 57%|█████▋    | 155/274 [01:01<00:36,  3.27it/s]\u001b[A\n",
            " 57%|█████▋    | 156/274 [01:02<00:44,  2.66it/s]\u001b[A\n",
            " 57%|█████▋    | 157/274 [01:02<00:54,  2.13it/s]\u001b[A\n",
            " 58%|█████▊    | 158/274 [01:03<00:52,  2.21it/s]\u001b[A\n",
            " 58%|█████▊    | 159/274 [01:03<00:42,  2.68it/s]\u001b[A\n",
            " 58%|█████▊    | 160/274 [01:03<00:33,  3.38it/s]\u001b[A\n",
            " 59%|█████▉    | 161/274 [01:03<00:31,  3.60it/s]\u001b[A\n",
            " 59%|█████▉    | 162/274 [01:04<00:33,  3.32it/s]\u001b[A\n",
            " 59%|█████▉    | 163/274 [01:04<00:30,  3.65it/s]\u001b[A\n",
            " 60%|█████▉    | 164/274 [01:05<00:45,  2.39it/s]\u001b[A\n",
            " 60%|██████    | 165/274 [01:05<00:39,  2.73it/s]\u001b[A\n",
            " 61%|██████    | 166/274 [01:05<00:36,  2.96it/s]\u001b[A\n",
            " 61%|██████    | 167/274 [01:06<00:54,  1.97it/s]\u001b[A\n",
            " 61%|██████▏   | 168/274 [01:06<00:46,  2.27it/s]\u001b[A\n",
            " 62%|██████▏   | 169/274 [01:06<00:36,  2.87it/s]\u001b[A\n",
            " 62%|██████▏   | 170/274 [01:07<00:35,  2.96it/s]\u001b[A\n",
            " 62%|██████▏   | 171/274 [01:07<00:33,  3.11it/s]\u001b[A\n",
            " 63%|██████▎   | 172/274 [01:07<00:29,  3.49it/s]\u001b[A\n",
            " 63%|██████▎   | 173/274 [01:08<00:46,  2.17it/s]\u001b[A\n",
            " 64%|██████▎   | 174/274 [01:09<01:02,  1.61it/s]\u001b[A\n",
            " 64%|██████▍   | 175/274 [01:10<00:58,  1.68it/s]\u001b[A\n",
            " 64%|██████▍   | 176/274 [01:10<00:55,  1.76it/s]\u001b[A\n",
            " 65%|██████▍   | 177/274 [01:11<00:59,  1.64it/s]\u001b[A\n",
            " 65%|██████▍   | 178/274 [01:11<00:48,  1.98it/s]\u001b[A\n",
            " 65%|██████▌   | 179/274 [01:12<00:51,  1.83it/s]\u001b[A\n",
            " 66%|██████▌   | 180/274 [01:12<00:42,  2.20it/s]\u001b[A\n",
            " 66%|██████▌   | 181/274 [01:12<00:37,  2.47it/s]\u001b[A\n",
            " 66%|██████▋   | 182/274 [01:12<00:32,  2.84it/s]\u001b[A\n",
            " 67%|██████▋   | 183/274 [01:14<00:54,  1.67it/s]\u001b[A\n",
            " 67%|██████▋   | 184/274 [01:14<00:49,  1.82it/s]\u001b[A\n",
            " 68%|██████▊   | 185/274 [01:14<00:43,  2.03it/s]\u001b[A\n",
            " 68%|██████▊   | 186/274 [01:17<01:33,  1.06s/it]\u001b[A\n",
            " 68%|██████▊   | 187/274 [01:17<01:10,  1.23it/s]\u001b[A\n",
            " 69%|██████▊   | 188/274 [01:17<00:55,  1.56it/s]\u001b[A\n",
            " 69%|██████▉   | 189/274 [01:17<00:43,  1.94it/s]\u001b[A\n",
            " 69%|██████▉   | 190/274 [01:19<00:57,  1.46it/s]\u001b[A\n",
            " 70%|██████▉   | 191/274 [01:19<00:45,  1.83it/s]\u001b[A\n",
            " 70%|███████   | 192/274 [01:20<00:51,  1.59it/s]\u001b[A\n",
            " 70%|███████   | 193/274 [01:20<00:50,  1.61it/s]\u001b[A\n",
            " 71%|███████   | 194/274 [01:21<00:58,  1.38it/s]\u001b[A\n",
            " 71%|███████   | 195/274 [01:21<00:46,  1.69it/s]\u001b[A\n",
            " 72%|███████▏  | 196/274 [01:22<00:41,  1.89it/s]\u001b[A\n",
            " 72%|███████▏  | 197/274 [01:22<00:33,  2.32it/s]\u001b[A\n",
            " 72%|███████▏  | 198/274 [01:22<00:30,  2.49it/s]\u001b[A\n",
            " 73%|███████▎  | 199/274 [01:23<00:30,  2.47it/s]\u001b[A\n",
            " 73%|███████▎  | 200/274 [01:23<00:23,  3.14it/s]\u001b[A\n",
            " 73%|███████▎  | 201/274 [01:23<00:24,  2.99it/s]\u001b[A\n",
            " 74%|███████▎  | 202/274 [01:24<00:42,  1.69it/s]\u001b[A\n",
            " 74%|███████▍  | 203/274 [01:26<00:52,  1.36it/s]\u001b[A\n",
            " 74%|███████▍  | 204/274 [01:26<00:51,  1.37it/s]\u001b[A\n",
            " 75%|███████▍  | 205/274 [01:26<00:39,  1.74it/s]\u001b[A\n",
            " 75%|███████▌  | 206/274 [01:27<00:32,  2.09it/s]\u001b[A\n",
            " 76%|███████▌  | 207/274 [01:27<00:27,  2.40it/s]\u001b[A\n",
            " 76%|███████▌  | 208/274 [01:28<00:30,  2.13it/s]\u001b[A\n",
            " 76%|███████▋  | 209/274 [01:28<00:24,  2.68it/s]\u001b[A\n",
            " 77%|███████▋  | 210/274 [01:28<00:23,  2.69it/s]\u001b[A\n",
            " 77%|███████▋  | 211/274 [01:29<00:24,  2.59it/s]\u001b[A\n",
            " 77%|███████▋  | 212/274 [01:29<00:20,  3.05it/s]\u001b[A\n",
            " 78%|███████▊  | 213/274 [01:29<00:19,  3.06it/s]\u001b[A\n",
            " 78%|███████▊  | 214/274 [01:29<00:18,  3.20it/s]\u001b[A\n",
            " 78%|███████▊  | 215/274 [01:30<00:17,  3.45it/s]\u001b[A\n",
            " 79%|███████▉  | 216/274 [01:30<00:15,  3.75it/s]\u001b[A\n",
            " 79%|███████▉  | 217/274 [01:30<00:15,  3.62it/s]\u001b[A\n",
            " 80%|███████▉  | 218/274 [01:30<00:14,  3.95it/s]\u001b[A\n",
            " 80%|███████▉  | 219/274 [01:31<00:14,  3.92it/s]\u001b[A\n",
            " 80%|████████  | 220/274 [01:31<00:16,  3.23it/s]\u001b[A\n",
            " 81%|████████  | 221/274 [01:31<00:15,  3.31it/s]\u001b[A\n",
            " 81%|████████  | 222/274 [01:32<00:25,  2.00it/s]\u001b[A\n",
            " 81%|████████▏ | 223/274 [01:33<00:22,  2.28it/s]\u001b[A\n",
            " 82%|████████▏ | 224/274 [01:33<00:26,  1.85it/s]\u001b[A\n",
            " 82%|████████▏ | 225/274 [01:35<00:38,  1.28it/s]\u001b[A\n",
            " 82%|████████▏ | 226/274 [01:35<00:38,  1.26it/s]\u001b[A\n",
            " 83%|████████▎ | 227/274 [01:36<00:38,  1.22it/s]\u001b[A\n",
            " 83%|████████▎ | 228/274 [01:36<00:28,  1.63it/s]\u001b[A\n",
            " 84%|████████▎ | 229/274 [01:37<00:27,  1.62it/s]\u001b[A\n",
            " 84%|████████▍ | 230/274 [01:38<00:24,  1.81it/s]\u001b[A\n",
            " 84%|████████▍ | 231/274 [01:38<00:19,  2.18it/s]\u001b[A\n",
            " 85%|████████▍ | 232/274 [01:38<00:16,  2.57it/s]\u001b[A\n",
            " 85%|████████▌ | 233/274 [01:38<00:16,  2.56it/s]\u001b[A\n",
            " 85%|████████▌ | 234/274 [01:39<00:13,  2.97it/s]\u001b[A\n",
            " 86%|████████▌ | 235/274 [01:39<00:13,  2.93it/s]\u001b[A\n",
            " 86%|████████▌ | 236/274 [01:39<00:13,  2.80it/s]\u001b[A\n",
            " 86%|████████▋ | 237/274 [01:40<00:16,  2.30it/s]\u001b[A\n",
            " 87%|████████▋ | 238/274 [01:40<00:13,  2.70it/s]\u001b[A\n",
            " 87%|████████▋ | 239/274 [01:41<00:14,  2.43it/s]\u001b[A\n",
            " 88%|████████▊ | 240/274 [01:41<00:15,  2.21it/s]\u001b[A\n",
            " 88%|████████▊ | 241/274 [01:41<00:12,  2.59it/s]\u001b[A\n",
            " 88%|████████▊ | 242/274 [01:42<00:13,  2.41it/s]\u001b[A\n",
            " 89%|████████▊ | 243/274 [01:43<00:23,  1.34it/s]\u001b[A\n",
            " 89%|████████▉ | 244/274 [01:44<00:18,  1.61it/s]\u001b[A\n",
            " 89%|████████▉ | 245/274 [01:44<00:14,  1.98it/s]\u001b[A\n",
            " 90%|████████▉ | 246/274 [01:44<00:11,  2.46it/s]\u001b[A\n",
            " 90%|█████████ | 247/274 [01:45<00:13,  1.96it/s]\u001b[A\n",
            " 91%|█████████ | 248/274 [01:45<00:11,  2.23it/s]\u001b[A\n",
            " 91%|█████████ | 249/274 [01:45<00:09,  2.64it/s]\u001b[A\n",
            " 91%|█████████ | 250/274 [01:46<00:08,  2.90it/s]\u001b[A\n",
            " 92%|█████████▏| 251/274 [01:46<00:09,  2.52it/s]\u001b[A\n",
            " 92%|█████████▏| 252/274 [01:47<00:08,  2.46it/s]\u001b[A\n",
            " 92%|█████████▏| 253/274 [01:47<00:07,  2.79it/s]\u001b[A\n",
            " 93%|█████████▎| 254/274 [01:47<00:05,  3.38it/s]\u001b[A\n",
            " 93%|█████████▎| 255/274 [01:48<00:07,  2.68it/s]\u001b[A\n",
            " 93%|█████████▎| 256/274 [01:48<00:07,  2.50it/s]\u001b[A\n",
            " 94%|█████████▍| 257/274 [01:50<00:12,  1.33it/s]\u001b[A\n",
            " 95%|█████████▍| 259/274 [01:50<00:08,  1.79it/s]\u001b[A\n",
            " 95%|█████████▍| 260/274 [01:50<00:06,  2.07it/s]\u001b[A\n",
            " 95%|█████████▌| 261/274 [01:51<00:05,  2.28it/s]\u001b[A\n",
            " 96%|█████████▌| 262/274 [01:51<00:04,  2.58it/s]\u001b[A\n",
            " 96%|█████████▌| 263/274 [01:51<00:03,  3.07it/s]\u001b[A\n",
            " 96%|█████████▋| 264/274 [01:52<00:04,  2.33it/s]\u001b[A\n",
            " 97%|█████████▋| 265/274 [01:52<00:03,  2.27it/s]\u001b[A\n",
            " 97%|█████████▋| 266/274 [01:52<00:03,  2.51it/s]\u001b[A\n",
            " 97%|█████████▋| 267/274 [01:53<00:02,  2.89it/s]\u001b[A\n",
            " 98%|█████████▊| 268/274 [01:53<00:01,  3.65it/s]\u001b[A\n",
            " 98%|█████████▊| 269/274 [01:53<00:01,  3.81it/s]\u001b[A\n",
            " 99%|█████████▊| 270/274 [01:53<00:01,  3.88it/s]\u001b[A\n",
            " 99%|█████████▉| 271/274 [01:54<00:00,  3.62it/s]\u001b[A\n",
            " 99%|█████████▉| 272/274 [01:54<00:00,  3.29it/s]\u001b[A\n",
            "100%|█████████▉| 273/274 [01:54<00:00,  3.81it/s]\u001b[A\n",
            "100%|██████████| 274/274 [01:54<00:00,  4.10it/s]\u001b[A\n",
            " 20%|██        | 3/15 [06:18<25:11, 125.95s/it]\n",
            "  0%|          | 0/274 [00:00<?, ?it/s]\u001b[A"
          ],
          "name": "stderr"
        },
        {
          "output_type": "stream",
          "text": [
            "Epoch: 03 | Epoch Time: 2m 7s\n",
            "\tTrain Loss: 0.412 | Train Acc: 82.41%\n",
            "\t Val. Loss: 0.345 |  Val. Acc: 86.52%\n"
          ],
          "name": "stdout"
        },
        {
          "output_type": "stream",
          "text": [
            "\n",
            "  0%|          | 1/274 [00:00<01:38,  2.77it/s]\u001b[A\n",
            "  1%|          | 2/274 [00:00<01:40,  2.70it/s]\u001b[A\n",
            "  1%|          | 3/274 [00:01<01:33,  2.89it/s]\u001b[A\n",
            "  1%|▏         | 4/274 [00:01<01:16,  3.52it/s]\u001b[A\n",
            "  2%|▏         | 5/274 [00:01<01:08,  3.94it/s]\u001b[A\n",
            "  2%|▏         | 6/274 [00:01<01:04,  4.18it/s]\u001b[A\n",
            "  3%|▎         | 7/274 [00:02<01:23,  3.21it/s]\u001b[A\n",
            "  3%|▎         | 8/274 [00:02<01:31,  2.89it/s]\u001b[A\n",
            "  3%|▎         | 9/274 [00:02<01:34,  2.81it/s]\u001b[A\n",
            "  4%|▎         | 10/274 [00:03<01:26,  3.06it/s]\u001b[A\n",
            "  4%|▍         | 11/274 [00:03<01:12,  3.62it/s]\u001b[A\n",
            "  4%|▍         | 12/274 [00:03<01:08,  3.82it/s]\u001b[A\n",
            "  5%|▍         | 13/274 [00:04<01:28,  2.96it/s]\u001b[A\n",
            "  5%|▌         | 14/274 [00:04<01:20,  3.24it/s]\u001b[A\n",
            "  5%|▌         | 15/274 [00:04<01:24,  3.08it/s]\u001b[A\n",
            "  6%|▌         | 16/274 [00:04<01:13,  3.50it/s]\u001b[A\n",
            "  6%|▌         | 17/274 [00:05<01:12,  3.55it/s]\u001b[A\n",
            "  7%|▋         | 18/274 [00:05<01:32,  2.76it/s]\u001b[A\n",
            "  7%|▋         | 19/274 [00:06<02:28,  1.72it/s]\u001b[A\n",
            "  7%|▋         | 20/274 [00:07<02:05,  2.03it/s]\u001b[A\n",
            "  8%|▊         | 21/274 [00:07<01:45,  2.40it/s]\u001b[A\n",
            "  8%|▊         | 22/274 [00:07<01:29,  2.82it/s]\u001b[A\n",
            "  8%|▊         | 23/274 [00:07<01:25,  2.92it/s]\u001b[A\n",
            "  9%|▉         | 24/274 [00:08<01:17,  3.21it/s]\u001b[A\n",
            "  9%|▉         | 25/274 [00:08<01:42,  2.44it/s]\u001b[A\n",
            "  9%|▉         | 26/274 [00:09<01:58,  2.09it/s]\u001b[A\n",
            " 10%|▉         | 27/274 [00:09<01:55,  2.14it/s]\u001b[A\n",
            " 10%|█         | 28/274 [00:10<01:55,  2.12it/s]\u001b[A\n",
            " 11%|█         | 29/274 [00:10<01:47,  2.29it/s]\u001b[A\n",
            " 11%|█         | 30/274 [00:12<03:58,  1.02it/s]\u001b[A\n",
            " 11%|█▏        | 31/274 [00:13<03:24,  1.19it/s]\u001b[A\n",
            " 12%|█▏        | 32/274 [00:13<02:33,  1.57it/s]\u001b[A\n",
            " 12%|█▏        | 33/274 [00:13<02:17,  1.76it/s]\u001b[A\n",
            " 12%|█▏        | 34/274 [00:14<01:55,  2.07it/s]\u001b[A\n",
            " 13%|█▎        | 35/274 [00:15<02:30,  1.59it/s]\u001b[A\n",
            " 13%|█▎        | 36/274 [00:15<02:06,  1.89it/s]\u001b[A\n",
            " 14%|█▎        | 37/274 [00:15<01:42,  2.30it/s]\u001b[A\n",
            " 14%|█▍        | 38/274 [00:15<01:26,  2.73it/s]\u001b[A\n",
            " 14%|█▍        | 39/274 [00:17<02:31,  1.55it/s]\u001b[A\n",
            " 15%|█▍        | 40/274 [00:17<01:53,  2.06it/s]\u001b[A\n",
            " 15%|█▍        | 41/274 [00:17<02:00,  1.94it/s]\u001b[A\n",
            " 15%|█▌        | 42/274 [00:18<01:39,  2.33it/s]\u001b[A\n",
            " 16%|█▌        | 43/274 [00:18<01:22,  2.79it/s]\u001b[A\n",
            " 16%|█▌        | 44/274 [00:18<01:25,  2.70it/s]\u001b[A\n",
            " 16%|█▋        | 45/274 [00:18<01:17,  2.94it/s]\u001b[A\n",
            " 17%|█▋        | 46/274 [00:19<01:08,  3.33it/s]\u001b[A\n",
            " 17%|█▋        | 47/274 [00:19<01:34,  2.41it/s]\u001b[A\n",
            " 18%|█▊        | 48/274 [00:20<02:01,  1.86it/s]\u001b[A"
          ],
          "name": "stderr"
        },
        {
          "output_type": "error",
          "ename": "KeyboardInterrupt",
          "evalue": "ignored",
          "traceback": [
            "\u001b[0;31m---------------------------------------------------------------------------\u001b[0m",
            "\u001b[0;31mKeyboardInterrupt\u001b[0m                         Traceback (most recent call last)",
            "\u001b[0;32m<ipython-input-37-e22386207ce9>\u001b[0m in \u001b[0;36m<module>\u001b[0;34m()\u001b[0m\n\u001b[1;32m     12\u001b[0m     \u001b[0mstart_time\u001b[0m \u001b[0;34m=\u001b[0m \u001b[0mtime\u001b[0m\u001b[0;34m.\u001b[0m\u001b[0mtime\u001b[0m\u001b[0;34m(\u001b[0m\u001b[0;34m)\u001b[0m\u001b[0;34m\u001b[0m\u001b[0;34m\u001b[0m\u001b[0m\n\u001b[1;32m     13\u001b[0m \u001b[0;34m\u001b[0m\u001b[0m\n\u001b[0;32m---> 14\u001b[0;31m     \u001b[0mtrain_loss\u001b[0m\u001b[0;34m,\u001b[0m \u001b[0mtrain_acc\u001b[0m \u001b[0;34m=\u001b[0m \u001b[0mtrain\u001b[0m\u001b[0;34m(\u001b[0m\u001b[0mmodel\u001b[0m\u001b[0;34m,\u001b[0m \u001b[0mtrain_iterator\u001b[0m\u001b[0;34m,\u001b[0m \u001b[0moptimizer\u001b[0m\u001b[0;34m,\u001b[0m \u001b[0mcriterion\u001b[0m\u001b[0;34m)\u001b[0m\u001b[0;34m\u001b[0m\u001b[0;34m\u001b[0m\u001b[0m\n\u001b[0m\u001b[1;32m     15\u001b[0m     \u001b[0mvalid_loss\u001b[0m\u001b[0;34m,\u001b[0m \u001b[0mvalid_acc\u001b[0m \u001b[0;34m=\u001b[0m \u001b[0mevaluate\u001b[0m\u001b[0;34m(\u001b[0m\u001b[0mmodel\u001b[0m\u001b[0;34m,\u001b[0m \u001b[0mvalid_iterator\u001b[0m\u001b[0;34m,\u001b[0m \u001b[0mcriterion\u001b[0m\u001b[0;34m)\u001b[0m\u001b[0;34m\u001b[0m\u001b[0;34m\u001b[0m\u001b[0m\n\u001b[1;32m     16\u001b[0m \u001b[0;34m\u001b[0m\u001b[0m\n",
            "\u001b[0;32m<ipython-input-32-dd839539ce08>\u001b[0m in \u001b[0;36mtrain\u001b[0;34m(model, iterator, optimizer, criterion)\u001b[0m\n\u001b[1;32m     19\u001b[0m         \u001b[0macc\u001b[0m \u001b[0;34m=\u001b[0m \u001b[0mbinary_accuracy\u001b[0m\u001b[0;34m(\u001b[0m\u001b[0mpredictions\u001b[0m\u001b[0;34m,\u001b[0m \u001b[0mbatch\u001b[0m\u001b[0;34m.\u001b[0m\u001b[0mlabel\u001b[0m\u001b[0;34m)\u001b[0m\u001b[0;34m\u001b[0m\u001b[0;34m\u001b[0m\u001b[0m\n\u001b[1;32m     20\u001b[0m \u001b[0;34m\u001b[0m\u001b[0m\n\u001b[0;32m---> 21\u001b[0;31m         \u001b[0mloss\u001b[0m\u001b[0;34m.\u001b[0m\u001b[0mbackward\u001b[0m\u001b[0;34m(\u001b[0m\u001b[0;34m)\u001b[0m\u001b[0;34m\u001b[0m\u001b[0;34m\u001b[0m\u001b[0m\n\u001b[0m\u001b[1;32m     22\u001b[0m \u001b[0;34m\u001b[0m\u001b[0m\n\u001b[1;32m     23\u001b[0m         \u001b[0moptimizer\u001b[0m\u001b[0;34m.\u001b[0m\u001b[0mstep\u001b[0m\u001b[0;34m(\u001b[0m\u001b[0;34m)\u001b[0m\u001b[0;34m\u001b[0m\u001b[0;34m\u001b[0m\u001b[0m\n",
            "\u001b[0;32m/usr/local/lib/python3.6/dist-packages/torch/tensor.py\u001b[0m in \u001b[0;36mbackward\u001b[0;34m(self, gradient, retain_graph, create_graph)\u001b[0m\n\u001b[1;32m    164\u001b[0m                 \u001b[0mproducts\u001b[0m\u001b[0;34m.\u001b[0m \u001b[0mDefaults\u001b[0m \u001b[0mto\u001b[0m\u001b[0;31m \u001b[0m\u001b[0;31m`\u001b[0m\u001b[0;31m`\u001b[0m\u001b[0;32mFalse\u001b[0m\u001b[0;31m`\u001b[0m\u001b[0;31m`\u001b[0m\u001b[0;34m.\u001b[0m\u001b[0;34m\u001b[0m\u001b[0;34m\u001b[0m\u001b[0m\n\u001b[1;32m    165\u001b[0m         \"\"\"\n\u001b[0;32m--> 166\u001b[0;31m         \u001b[0mtorch\u001b[0m\u001b[0;34m.\u001b[0m\u001b[0mautograd\u001b[0m\u001b[0;34m.\u001b[0m\u001b[0mbackward\u001b[0m\u001b[0;34m(\u001b[0m\u001b[0mself\u001b[0m\u001b[0;34m,\u001b[0m \u001b[0mgradient\u001b[0m\u001b[0;34m,\u001b[0m \u001b[0mretain_graph\u001b[0m\u001b[0;34m,\u001b[0m \u001b[0mcreate_graph\u001b[0m\u001b[0;34m)\u001b[0m\u001b[0;34m\u001b[0m\u001b[0;34m\u001b[0m\u001b[0m\n\u001b[0m\u001b[1;32m    167\u001b[0m \u001b[0;34m\u001b[0m\u001b[0m\n\u001b[1;32m    168\u001b[0m     \u001b[0;32mdef\u001b[0m \u001b[0mregister_hook\u001b[0m\u001b[0;34m(\u001b[0m\u001b[0mself\u001b[0m\u001b[0;34m,\u001b[0m \u001b[0mhook\u001b[0m\u001b[0;34m)\u001b[0m\u001b[0;34m:\u001b[0m\u001b[0;34m\u001b[0m\u001b[0;34m\u001b[0m\u001b[0m\n",
            "\u001b[0;32m/usr/local/lib/python3.6/dist-packages/torch/autograd/__init__.py\u001b[0m in \u001b[0;36mbackward\u001b[0;34m(tensors, grad_tensors, retain_graph, create_graph, grad_variables)\u001b[0m\n\u001b[1;32m     97\u001b[0m     Variable._execution_engine.run_backward(\n\u001b[1;32m     98\u001b[0m         \u001b[0mtensors\u001b[0m\u001b[0;34m,\u001b[0m \u001b[0mgrad_tensors\u001b[0m\u001b[0;34m,\u001b[0m \u001b[0mretain_graph\u001b[0m\u001b[0;34m,\u001b[0m \u001b[0mcreate_graph\u001b[0m\u001b[0;34m,\u001b[0m\u001b[0;34m\u001b[0m\u001b[0;34m\u001b[0m\u001b[0m\n\u001b[0;32m---> 99\u001b[0;31m         allow_unreachable=True)  # allow_unreachable flag\n\u001b[0m\u001b[1;32m    100\u001b[0m \u001b[0;34m\u001b[0m\u001b[0m\n\u001b[1;32m    101\u001b[0m \u001b[0;34m\u001b[0m\u001b[0m\n",
            "\u001b[0;31mKeyboardInterrupt\u001b[0m: "
          ]
        }
      ]
    },
    {
      "cell_type": "markdown",
      "metadata": {
        "id": "ggyeFAZ6bZ8C",
        "colab_type": "text"
      },
      "source": [
        "...and get our new and vastly improved test accuracy!"
      ]
    },
    {
      "cell_type": "code",
      "metadata": {
        "id": "kkFWiQ3pv_wq",
        "colab_type": "code",
        "colab": {
          "base_uri": "https://localhost:8080/",
          "height": 322
        },
        "outputId": "407081e9-5af7-40f6-cd0c-28dc304f38a1"
      },
      "source": [
        "evaluate(model, test_iterator, criterion, \"eval-good-gumbel-cm-sum.expl\", True, True)"
      ],
      "execution_count": 38,
      "outputs": [
        {
          "output_type": "error",
          "ename": "KeyboardInterrupt",
          "evalue": "ignored",
          "traceback": [
            "\u001b[0;31m---------------------------------------------------------------------------\u001b[0m",
            "\u001b[0;31mKeyboardInterrupt\u001b[0m                         Traceback (most recent call last)",
            "\u001b[0;32m<ipython-input-38-b0ab9cc8af25>\u001b[0m in \u001b[0;36m<module>\u001b[0;34m()\u001b[0m\n\u001b[0;32m----> 1\u001b[0;31m \u001b[0mevaluate\u001b[0m\u001b[0;34m(\u001b[0m\u001b[0mmodel\u001b[0m\u001b[0;34m,\u001b[0m \u001b[0mtest_iterator\u001b[0m\u001b[0;34m,\u001b[0m \u001b[0mcriterion\u001b[0m\u001b[0;34m,\u001b[0m \u001b[0;34m\"eval-good-gumbel-cm-sum.expl\"\u001b[0m\u001b[0;34m,\u001b[0m \u001b[0;32mTrue\u001b[0m\u001b[0;34m,\u001b[0m \u001b[0;32mTrue\u001b[0m\u001b[0;34m)\u001b[0m\u001b[0;34m\u001b[0m\u001b[0;34m\u001b[0m\u001b[0m\n\u001b[0m",
            "\u001b[0;32m<ipython-input-34-fa16a6094b44>\u001b[0m in \u001b[0;36mevaluate\u001b[0;34m(model, iterator, criterion, filename, prt, correct)\u001b[0m\n\u001b[1;32m     21\u001b[0m                     \u001b[0;32mif\u001b[0m \u001b[0mcond\u001b[0m\u001b[0;34m:\u001b[0m\u001b[0;34m\u001b[0m\u001b[0;34m\u001b[0m\u001b[0m\n\u001b[1;32m     22\u001b[0m                       \u001b[0mprint\u001b[0m\u001b[0;34m(\u001b[0m\u001b[0;34m\" \"\u001b[0m\u001b[0;34m.\u001b[0m\u001b[0mjoin\u001b[0m\u001b[0;34m(\u001b[0m\u001b[0;34m[\u001b[0m\u001b[0mTEXT\u001b[0m\u001b[0;34m.\u001b[0m\u001b[0mvocab\u001b[0m\u001b[0;34m.\u001b[0m\u001b[0mitos\u001b[0m\u001b[0;34m[\u001b[0m\u001b[0mt\u001b[0m\u001b[0;34m]\u001b[0m \u001b[0;32mfor\u001b[0m \u001b[0mt\u001b[0m \u001b[0;32min\u001b[0m \u001b[0mtext\u001b[0m\u001b[0;34m[\u001b[0m\u001b[0;34m:\u001b[0m\u001b[0;34m,\u001b[0m\u001b[0mi\u001b[0m\u001b[0;34m]\u001b[0m\u001b[0;34m]\u001b[0m\u001b[0;34m)\u001b[0m\u001b[0;34m,\u001b[0m \u001b[0mfile\u001b[0m\u001b[0;34m=\u001b[0m\u001b[0mf\u001b[0m\u001b[0;34m)\u001b[0m\u001b[0;34m\u001b[0m\u001b[0;34m\u001b[0m\u001b[0m\n\u001b[0;32m---> 23\u001b[0;31m                       \u001b[0mprint\u001b[0m\u001b[0;34m(\u001b[0m\u001b[0mtorch\u001b[0m\u001b[0;34m.\u001b[0m\u001b[0msigmoid\u001b[0m\u001b[0;34m(\u001b[0m\u001b[0mpredictions\u001b[0m\u001b[0;34m[\u001b[0m\u001b[0mi\u001b[0m\u001b[0;34m]\u001b[0m\u001b[0;34m)\u001b[0m\u001b[0;34m,\u001b[0m \u001b[0mfile\u001b[0m\u001b[0;34m=\u001b[0m\u001b[0mf\u001b[0m\u001b[0;34m)\u001b[0m\u001b[0;34m\u001b[0m\u001b[0;34m\u001b[0m\u001b[0m\n\u001b[0m\u001b[1;32m     24\u001b[0m                       \u001b[0mprint\u001b[0m\u001b[0;34m(\u001b[0m\u001b[0mbatch\u001b[0m\u001b[0;34m.\u001b[0m\u001b[0mlabel\u001b[0m\u001b[0;34m[\u001b[0m\u001b[0mi\u001b[0m\u001b[0;34m]\u001b[0m\u001b[0;34m,\u001b[0m \u001b[0mfile\u001b[0m\u001b[0;34m=\u001b[0m\u001b[0mf\u001b[0m\u001b[0;34m)\u001b[0m\u001b[0;34m\u001b[0m\u001b[0;34m\u001b[0m\u001b[0m\n\u001b[1;32m     25\u001b[0m                       \u001b[0mprint\u001b[0m\u001b[0;34m(\u001b[0m\u001b[0mdecode_expl\u001b[0m\u001b[0;34m(\u001b[0m\u001b[0mexpl\u001b[0m\u001b[0;34m[\u001b[0m\u001b[0mi\u001b[0m\u001b[0;34m]\u001b[0m\u001b[0;34m)\u001b[0m\u001b[0;34m,\u001b[0m \u001b[0mfile\u001b[0m\u001b[0;34m=\u001b[0m\u001b[0mf\u001b[0m\u001b[0;34m)\u001b[0m\u001b[0;34m\u001b[0m\u001b[0;34m\u001b[0m\u001b[0m\n",
            "\u001b[0;32m/usr/local/lib/python3.6/dist-packages/torch/tensor.py\u001b[0m in \u001b[0;36m__repr__\u001b[0;34m(self)\u001b[0m\n\u001b[1;32m    128\u001b[0m         \u001b[0;31m# characters to replace unicode characters with.\u001b[0m\u001b[0;34m\u001b[0m\u001b[0;34m\u001b[0m\u001b[0;34m\u001b[0m\u001b[0m\n\u001b[1;32m    129\u001b[0m         \u001b[0;32mif\u001b[0m \u001b[0msys\u001b[0m\u001b[0;34m.\u001b[0m\u001b[0mversion_info\u001b[0m \u001b[0;34m>\u001b[0m \u001b[0;34m(\u001b[0m\u001b[0;36m3\u001b[0m\u001b[0;34m,\u001b[0m\u001b[0;34m)\u001b[0m\u001b[0;34m:\u001b[0m\u001b[0;34m\u001b[0m\u001b[0;34m\u001b[0m\u001b[0m\n\u001b[0;32m--> 130\u001b[0;31m             \u001b[0;32mreturn\u001b[0m \u001b[0mtorch\u001b[0m\u001b[0;34m.\u001b[0m\u001b[0m_tensor_str\u001b[0m\u001b[0;34m.\u001b[0m\u001b[0m_str\u001b[0m\u001b[0;34m(\u001b[0m\u001b[0mself\u001b[0m\u001b[0;34m)\u001b[0m\u001b[0;34m\u001b[0m\u001b[0;34m\u001b[0m\u001b[0m\n\u001b[0m\u001b[1;32m    131\u001b[0m         \u001b[0;32melse\u001b[0m\u001b[0;34m:\u001b[0m\u001b[0;34m\u001b[0m\u001b[0;34m\u001b[0m\u001b[0m\n\u001b[1;32m    132\u001b[0m             \u001b[0;32mif\u001b[0m \u001b[0mhasattr\u001b[0m\u001b[0;34m(\u001b[0m\u001b[0msys\u001b[0m\u001b[0;34m.\u001b[0m\u001b[0mstdout\u001b[0m\u001b[0;34m,\u001b[0m \u001b[0;34m'encoding'\u001b[0m\u001b[0;34m)\u001b[0m\u001b[0;34m:\u001b[0m\u001b[0;34m\u001b[0m\u001b[0;34m\u001b[0m\u001b[0m\n",
            "\u001b[0;32m/usr/local/lib/python3.6/dist-packages/torch/_tensor_str.py\u001b[0m in \u001b[0;36m_str\u001b[0;34m(self)\u001b[0m\n\u001b[1;32m    309\u001b[0m                 \u001b[0mtensor_str\u001b[0m \u001b[0;34m=\u001b[0m \u001b[0m_tensor_str\u001b[0m\u001b[0;34m(\u001b[0m\u001b[0mself\u001b[0m\u001b[0;34m.\u001b[0m\u001b[0mto_dense\u001b[0m\u001b[0;34m(\u001b[0m\u001b[0;34m)\u001b[0m\u001b[0;34m,\u001b[0m \u001b[0mindent\u001b[0m\u001b[0;34m)\u001b[0m\u001b[0;34m\u001b[0m\u001b[0;34m\u001b[0m\u001b[0m\n\u001b[1;32m    310\u001b[0m             \u001b[0;32melse\u001b[0m\u001b[0;34m:\u001b[0m\u001b[0;34m\u001b[0m\u001b[0;34m\u001b[0m\u001b[0m\n\u001b[0;32m--> 311\u001b[0;31m                 \u001b[0mtensor_str\u001b[0m \u001b[0;34m=\u001b[0m \u001b[0m_tensor_str\u001b[0m\u001b[0;34m(\u001b[0m\u001b[0mself\u001b[0m\u001b[0;34m,\u001b[0m \u001b[0mindent\u001b[0m\u001b[0;34m)\u001b[0m\u001b[0;34m\u001b[0m\u001b[0;34m\u001b[0m\u001b[0m\n\u001b[0m\u001b[1;32m    312\u001b[0m \u001b[0;34m\u001b[0m\u001b[0m\n\u001b[1;32m    313\u001b[0m     \u001b[0;32mif\u001b[0m \u001b[0mself\u001b[0m\u001b[0;34m.\u001b[0m\u001b[0mlayout\u001b[0m \u001b[0;34m!=\u001b[0m \u001b[0mtorch\u001b[0m\u001b[0;34m.\u001b[0m\u001b[0mstrided\u001b[0m\u001b[0;34m:\u001b[0m\u001b[0;34m\u001b[0m\u001b[0;34m\u001b[0m\u001b[0m\n",
            "\u001b[0;32m/usr/local/lib/python3.6/dist-packages/torch/_tensor_str.py\u001b[0m in \u001b[0;36m_tensor_str\u001b[0;34m(self, indent)\u001b[0m\n\u001b[1;32m    207\u001b[0m     \u001b[0;32mif\u001b[0m \u001b[0mself\u001b[0m\u001b[0;34m.\u001b[0m\u001b[0mdtype\u001b[0m \u001b[0;32mis\u001b[0m \u001b[0mtorch\u001b[0m\u001b[0;34m.\u001b[0m\u001b[0mfloat16\u001b[0m \u001b[0;32mor\u001b[0m \u001b[0mself\u001b[0m\u001b[0;34m.\u001b[0m\u001b[0mdtype\u001b[0m \u001b[0;32mis\u001b[0m \u001b[0mtorch\u001b[0m\u001b[0;34m.\u001b[0m\u001b[0mbfloat16\u001b[0m\u001b[0;34m:\u001b[0m\u001b[0;34m\u001b[0m\u001b[0;34m\u001b[0m\u001b[0m\n\u001b[1;32m    208\u001b[0m         \u001b[0mself\u001b[0m \u001b[0;34m=\u001b[0m \u001b[0mself\u001b[0m\u001b[0;34m.\u001b[0m\u001b[0mfloat\u001b[0m\u001b[0;34m(\u001b[0m\u001b[0;34m)\u001b[0m\u001b[0;34m\u001b[0m\u001b[0;34m\u001b[0m\u001b[0m\n\u001b[0;32m--> 209\u001b[0;31m     \u001b[0mformatter\u001b[0m \u001b[0;34m=\u001b[0m \u001b[0m_Formatter\u001b[0m\u001b[0;34m(\u001b[0m\u001b[0mget_summarized_data\u001b[0m\u001b[0;34m(\u001b[0m\u001b[0mself\u001b[0m\u001b[0;34m)\u001b[0m \u001b[0;32mif\u001b[0m \u001b[0msummarize\u001b[0m \u001b[0;32melse\u001b[0m \u001b[0mself\u001b[0m\u001b[0;34m)\u001b[0m\u001b[0;34m\u001b[0m\u001b[0;34m\u001b[0m\u001b[0m\n\u001b[0m\u001b[1;32m    210\u001b[0m     \u001b[0;32mreturn\u001b[0m \u001b[0m_tensor_str_with_formatter\u001b[0m\u001b[0;34m(\u001b[0m\u001b[0mself\u001b[0m\u001b[0;34m,\u001b[0m \u001b[0mindent\u001b[0m\u001b[0;34m,\u001b[0m \u001b[0mformatter\u001b[0m\u001b[0;34m,\u001b[0m \u001b[0msummarize\u001b[0m\u001b[0;34m)\u001b[0m\u001b[0;34m\u001b[0m\u001b[0;34m\u001b[0m\u001b[0m\n\u001b[1;32m    211\u001b[0m \u001b[0;34m\u001b[0m\u001b[0m\n",
            "\u001b[0;32m/usr/local/lib/python3.6/dist-packages/torch/_tensor_str.py\u001b[0m in \u001b[0;36m__init__\u001b[0;34m(self, tensor)\u001b[0m\n\u001b[1;32m     93\u001b[0m             \u001b[0;31m# Convert to double for easy calculation. HalfTensor overflows with 1e8, and there's no div() on CPU.\u001b[0m\u001b[0;34m\u001b[0m\u001b[0;34m\u001b[0m\u001b[0;34m\u001b[0m\u001b[0m\n\u001b[1;32m     94\u001b[0m             \u001b[0mnonzero_finite_abs\u001b[0m \u001b[0;34m=\u001b[0m \u001b[0mnonzero_finite_vals\u001b[0m\u001b[0;34m.\u001b[0m\u001b[0mabs\u001b[0m\u001b[0;34m(\u001b[0m\u001b[0;34m)\u001b[0m\u001b[0;34m.\u001b[0m\u001b[0mdouble\u001b[0m\u001b[0;34m(\u001b[0m\u001b[0;34m)\u001b[0m\u001b[0;34m\u001b[0m\u001b[0;34m\u001b[0m\u001b[0m\n\u001b[0;32m---> 95\u001b[0;31m             \u001b[0mnonzero_finite_min\u001b[0m \u001b[0;34m=\u001b[0m \u001b[0mnonzero_finite_abs\u001b[0m\u001b[0;34m.\u001b[0m\u001b[0mmin\u001b[0m\u001b[0;34m(\u001b[0m\u001b[0;34m)\u001b[0m\u001b[0;34m.\u001b[0m\u001b[0mdouble\u001b[0m\u001b[0;34m(\u001b[0m\u001b[0;34m)\u001b[0m\u001b[0;34m\u001b[0m\u001b[0;34m\u001b[0m\u001b[0m\n\u001b[0m\u001b[1;32m     96\u001b[0m             \u001b[0mnonzero_finite_max\u001b[0m \u001b[0;34m=\u001b[0m \u001b[0mnonzero_finite_abs\u001b[0m\u001b[0;34m.\u001b[0m\u001b[0mmax\u001b[0m\u001b[0;34m(\u001b[0m\u001b[0;34m)\u001b[0m\u001b[0;34m.\u001b[0m\u001b[0mdouble\u001b[0m\u001b[0;34m(\u001b[0m\u001b[0;34m)\u001b[0m\u001b[0;34m\u001b[0m\u001b[0;34m\u001b[0m\u001b[0m\n\u001b[1;32m     97\u001b[0m \u001b[0;34m\u001b[0m\u001b[0m\n",
            "\u001b[0;31mKeyboardInterrupt\u001b[0m: "
          ]
        }
      ]
    },
    {
      "cell_type": "code",
      "metadata": {
        "id": "Ij459lI4wHZo",
        "colab_type": "code",
        "colab": {}
      },
      "source": [
        "from google.colab import files\n",
        "files.download( \"eval-good-gumbel-cm-sum.expl\" ) "
      ],
      "execution_count": 0,
      "outputs": []
    },
    {
      "cell_type": "code",
      "metadata": {
        "id": "tbmTzOW7v96Q",
        "colab_type": "code",
        "colab": {
          "base_uri": "https://localhost:8080/",
          "height": 322
        },
        "outputId": "1ad19343-f934-440b-be97-c9fc3f8450ff"
      },
      "source": [
        "evaluate(model, test_iterator, criterion, \"eval-good-gumbel-icm-sum.expl\", True, False)"
      ],
      "execution_count": 40,
      "outputs": [
        {
          "output_type": "error",
          "ename": "KeyboardInterrupt",
          "evalue": "ignored",
          "traceback": [
            "\u001b[0;31m---------------------------------------------------------------------------\u001b[0m",
            "\u001b[0;31mKeyboardInterrupt\u001b[0m                         Traceback (most recent call last)",
            "\u001b[0;32m<ipython-input-40-c6de67019949>\u001b[0m in \u001b[0;36m<module>\u001b[0;34m()\u001b[0m\n\u001b[0;32m----> 1\u001b[0;31m \u001b[0mevaluate\u001b[0m\u001b[0;34m(\u001b[0m\u001b[0mmodel\u001b[0m\u001b[0;34m,\u001b[0m \u001b[0mtest_iterator\u001b[0m\u001b[0;34m,\u001b[0m \u001b[0mcriterion\u001b[0m\u001b[0;34m,\u001b[0m \u001b[0;34m\"eval-good-gumbel-icm-sum.expl\"\u001b[0m\u001b[0;34m,\u001b[0m \u001b[0;32mTrue\u001b[0m\u001b[0;34m,\u001b[0m \u001b[0;32mFalse\u001b[0m\u001b[0;34m)\u001b[0m\u001b[0;34m\u001b[0m\u001b[0;34m\u001b[0m\u001b[0m\n\u001b[0m",
            "\u001b[0;32m<ipython-input-34-fa16a6094b44>\u001b[0m in \u001b[0;36mevaluate\u001b[0;34m(model, iterator, criterion, filename, prt, correct)\u001b[0m\n\u001b[1;32m     23\u001b[0m                       \u001b[0mprint\u001b[0m\u001b[0;34m(\u001b[0m\u001b[0mtorch\u001b[0m\u001b[0;34m.\u001b[0m\u001b[0msigmoid\u001b[0m\u001b[0;34m(\u001b[0m\u001b[0mpredictions\u001b[0m\u001b[0;34m[\u001b[0m\u001b[0mi\u001b[0m\u001b[0;34m]\u001b[0m\u001b[0;34m)\u001b[0m\u001b[0;34m,\u001b[0m \u001b[0mfile\u001b[0m\u001b[0;34m=\u001b[0m\u001b[0mf\u001b[0m\u001b[0;34m)\u001b[0m\u001b[0;34m\u001b[0m\u001b[0;34m\u001b[0m\u001b[0m\n\u001b[1;32m     24\u001b[0m                       \u001b[0mprint\u001b[0m\u001b[0;34m(\u001b[0m\u001b[0mbatch\u001b[0m\u001b[0;34m.\u001b[0m\u001b[0mlabel\u001b[0m\u001b[0;34m[\u001b[0m\u001b[0mi\u001b[0m\u001b[0;34m]\u001b[0m\u001b[0;34m,\u001b[0m \u001b[0mfile\u001b[0m\u001b[0;34m=\u001b[0m\u001b[0mf\u001b[0m\u001b[0;34m)\u001b[0m\u001b[0;34m\u001b[0m\u001b[0;34m\u001b[0m\u001b[0m\n\u001b[0;32m---> 25\u001b[0;31m                       \u001b[0mprint\u001b[0m\u001b[0;34m(\u001b[0m\u001b[0mdecode_expl\u001b[0m\u001b[0;34m(\u001b[0m\u001b[0mexpl\u001b[0m\u001b[0;34m[\u001b[0m\u001b[0mi\u001b[0m\u001b[0;34m]\u001b[0m\u001b[0;34m)\u001b[0m\u001b[0;34m,\u001b[0m \u001b[0mfile\u001b[0m\u001b[0;34m=\u001b[0m\u001b[0mf\u001b[0m\u001b[0;34m)\u001b[0m\u001b[0;34m\u001b[0m\u001b[0;34m\u001b[0m\u001b[0m\n\u001b[0m\u001b[1;32m     26\u001b[0m                       \u001b[0mprint\u001b[0m\u001b[0;34m(\u001b[0m\u001b[0;34m\"**\"\u001b[0m\u001b[0;34m,\u001b[0m \u001b[0mfile\u001b[0m\u001b[0;34m=\u001b[0m\u001b[0mf\u001b[0m\u001b[0;34m)\u001b[0m\u001b[0;34m\u001b[0m\u001b[0;34m\u001b[0m\u001b[0m\n\u001b[1;32m     27\u001b[0m \u001b[0;34m\u001b[0m\u001b[0m\n",
            "\u001b[0;32m<ipython-input-33-be143e1c5c04>\u001b[0m in \u001b[0;36mdecode_expl\u001b[0;34m(expl)\u001b[0m\n\u001b[1;32m     14\u001b[0m     \u001b[0;31m#word: score\u001b[0m\u001b[0;34m\u001b[0m\u001b[0;34m\u001b[0m\u001b[0;34m\u001b[0m\u001b[0m\n\u001b[1;32m     15\u001b[0m     \u001b[0;32mfor\u001b[0m \u001b[0mi\u001b[0m \u001b[0;32min\u001b[0m \u001b[0mrange\u001b[0m\u001b[0;34m(\u001b[0m\u001b[0;36m3\u001b[0m\u001b[0;34m)\u001b[0m\u001b[0;34m:\u001b[0m\u001b[0;34m\u001b[0m\u001b[0;34m\u001b[0m\u001b[0m\n\u001b[0;32m---> 16\u001b[0;31m       \u001b[0mdecoded\u001b[0m\u001b[0;34m[\u001b[0m\u001b[0mTEXT\u001b[0m\u001b[0;34m.\u001b[0m\u001b[0mvocab\u001b[0m\u001b[0;34m.\u001b[0m\u001b[0mitos\u001b[0m\u001b[0;34m[\u001b[0m\u001b[0mVOCAB\u001b[0m\u001b[0;34m[\u001b[0m\u001b[0mtops\u001b[0m\u001b[0;34m[\u001b[0m\u001b[0mi\u001b[0m\u001b[0;34m]\u001b[0m\u001b[0;34m]\u001b[0m\u001b[0;34m]\u001b[0m\u001b[0;34m]\u001b[0m\u001b[0;34m=\u001b[0m \u001b[0me\u001b[0m\u001b[0;34m[\u001b[0m\u001b[0mtops\u001b[0m\u001b[0;34m[\u001b[0m\u001b[0mi\u001b[0m\u001b[0;34m]\u001b[0m\u001b[0;34m]\u001b[0m\u001b[0;34m\u001b[0m\u001b[0;34m\u001b[0m\u001b[0m\n\u001b[0m\u001b[1;32m     17\u001b[0m     \u001b[0;31m# vals, idx = e.max(0)\u001b[0m\u001b[0;34m\u001b[0m\u001b[0;34m\u001b[0m\u001b[0;34m\u001b[0m\u001b[0m\n\u001b[1;32m     18\u001b[0m     \u001b[0;31m# print(TEXT.vocab.itos[VOCAB[tops[0]]])\u001b[0m\u001b[0;34m\u001b[0m\u001b[0;34m\u001b[0m\u001b[0;34m\u001b[0m\u001b[0m\n",
            "\u001b[0;31mKeyboardInterrupt\u001b[0m: "
          ]
        }
      ]
    },
    {
      "cell_type": "code",
      "metadata": {
        "id": "KGBVTk3lwKT_",
        "colab_type": "code",
        "colab": {}
      },
      "source": [
        "files.download( \"eval-good-gumbel-icm-sum.expl\" ) "
      ],
      "execution_count": 0,
      "outputs": []
    },
    {
      "cell_type": "code",
      "metadata": {
        "id": "3sB8JLwsbZ8D",
        "colab_type": "code",
        "colab": {}
      },
      "source": [
        "model.load_state_dict(torch.load('tut2-model-dr.pt'))\n",
        "\n",
        "test_loss, test_acc = evaluate(model, test_iterator, criterion, \"eval-correct.expl\")\n",
        "\n",
        "print(f'Test Loss: {test_loss:.3f} | Test Acc: {test_acc*100:.2f}%')"
      ],
      "execution_count": 0,
      "outputs": []
    },
    {
      "cell_type": "code",
      "metadata": {
        "id": "Pu_DpE0jP3Qm",
        "colab_type": "code",
        "colab": {}
      },
      "source": [
        "pip install matplotlib"
      ],
      "execution_count": 0,
      "outputs": []
    },
    {
      "cell_type": "code",
      "metadata": {
        "id": "nAzw9HnrPknS",
        "colab_type": "code",
        "colab": {}
      },
      "source": [
        "import numpy as np\n",
        "import matplotlib.pyplot as plt\n",
        "\n",
        "# Create plots with pre-defined labels.\n",
        "plt.plot(tr_loss, 'k', label='Train loss')\n",
        "plt.plot(val_loss, 'c', label='Val loss')\n",
        "plt.legend(loc='upper center', shadow=True, fontsize='x-large')\n",
        "plt.show()\n",
        "plt.savefig(\"loss-2.jpg\")"
      ],
      "execution_count": 0,
      "outputs": []
    },
    {
      "cell_type": "code",
      "metadata": {
        "id": "gJhoSZAjO6B2",
        "colab_type": "code",
        "colab": {}
      },
      "source": [
        "print(tr_loss)\n",
        "print(val_loss)\n",
        "print(train_accs)\n",
        "print(val_accs)\n",
        "[0.6488452013174113, 0.6179393041525444, 0.3997167544643374, 0.2942901823370561, 0.23988678610890452, 0.2172503003673832, 0.18002125828860016, 0.1937074756630472, 0.12397468158037123, 0.09904653679606688, 0.09048979578328992, 0.07578461771035554, 0.06435575170347291]\n",
        "[0.6935644796339132, 0.4334930393655421, 0.5547997360512361, 0.2719338273597976, 0.2712669196396561, 0.7758906738737882, 0.29003221554271247, 0.2902473081218994, 0.27659409638431115, 0.3154940161917169, 0.352066691017757, 0.36664158648858636, 0.3961483601291301]\n",
        "[0.6075746221263914, 0.6441198515630987, 0.8241250654206659, 0.8817371612917768, 0.9072194345241046, 0.9193495829610059, 0.934119199749327, 0.9316671012091811, 0.9561880866106409, 0.9654832508442176, 0.9680086678832117, 0.9728232535132526, 0.9771897810218978]\n",
        "[0.5079449152542372, 0.8068061440677966, 0.748146186440678, 0.8896539549706346, 0.890625, 0.6915165963819472, 0.8978637007333464, 0.8952153956486006, 0.8920374295469058, 0.8883298024282618, 0.8929643363265668, 0.8909781075130074, 0.88938912446216]"
      ],
      "execution_count": 0,
      "outputs": []
    },
    {
      "cell_type": "code",
      "metadata": {
        "id": "Ibqoz6AFQa-c",
        "colab_type": "code",
        "colab": {}
      },
      "source": [
        "plt.plot(train_accs, 'k', label='Train acc')\n",
        "plt.plot(val_accs, 'k:', label='Val acc')\n",
        "plt.legend(loc='upper center', shadow=True, fontsize='x-large')\n",
        "plt.show()\n",
        "\n",
        "plt.savefig(\"acc-2.jpg\")"
      ],
      "execution_count": 0,
      "outputs": []
    },
    {
      "cell_type": "markdown",
      "metadata": {
        "id": "cL8CPNUVbZ8F",
        "colab_type": "text"
      },
      "source": [
        "## User Input\n",
        "\n",
        "We can now use our model to predict the sentiment of any sentence we give it. As it has been trained on movie reviews, the sentences provided should also be movie reviews.\n",
        "\n",
        "When using a model for inference it should always be in evaluation mode. If this tutorial is followed step-by-step then it should already be in evaluation mode (from doing `evaluate` on the test set), however we explicitly set it to avoid any risk.\n",
        "\n",
        "Our `predict_sentiment` function does a few things:\n",
        "- sets the model to evaluation mode\n",
        "- tokenizes the sentence, i.e. splits it from a raw string into a list of tokens\n",
        "- indexes the tokens by converting them into their integer representation from our vocabulary\n",
        "- gets the length of our sequence\n",
        "- converts the indexes, which are a Python list into a PyTorch tensor\n",
        "- add a batch dimension by `unsqueeze`ing \n",
        "- converts the length into a tensor\n",
        "- squashes the output prediction from a real number between 0 and 1 with the `sigmoid` function\n",
        "- converts the tensor holding a single value into an integer with the `item()` method\n",
        "\n",
        "We are expecting reviews with a negative sentiment to return a value close to 0 and positive reviews to return a value close to 1."
      ]
    },
    {
      "cell_type": "code",
      "metadata": {
        "id": "N09M0YuLbZ8G",
        "colab_type": "code",
        "colab": {}
      },
      "source": [
        ""
      ],
      "execution_count": 0,
      "outputs": []
    },
    {
      "cell_type": "code",
      "metadata": {
        "id": "RRuH-TENWMDk",
        "colab_type": "code",
        "colab": {}
      },
      "source": [
        "torch.save(model, \"model-sa-2-dr.pt\")"
      ],
      "execution_count": 0,
      "outputs": []
    },
    {
      "cell_type": "code",
      "metadata": {
        "id": "KuJaUow6WV9i",
        "colab_type": "code",
        "colab": {}
      },
      "source": [
        "model_loaded = torch.load(\"model-sa-2-dr.pt\")"
      ],
      "execution_count": 0,
      "outputs": []
    },
    {
      "cell_type": "code",
      "metadata": {
        "id": "BdxI-Lw0rafT",
        "colab_type": "code",
        "colab": {}
      },
      "source": [
        "import os\n",
        "print( os.getcwd() )\n",
        "print( os.listdir(os.getcwd()) )"
      ],
      "execution_count": 0,
      "outputs": []
    },
    {
      "cell_type": "code",
      "metadata": {
        "id": "gl6FYyGRrYQ4",
        "colab_type": "code",
        "colab": {}
      },
      "source": [
        "from google.colab import files\n",
        "files.download( \"eval-good-gumbel-c.expl\" ) "
      ],
      "execution_count": 0,
      "outputs": []
    },
    {
      "cell_type": "code",
      "metadata": {
        "id": "F3xjftUtrYCr",
        "colab_type": "code",
        "colab": {}
      },
      "source": [
        "evaluate(model, test_iterator, criterion, \"eval-good-gumbel-c.expl\", True, True)"
      ],
      "execution_count": 0,
      "outputs": []
    },
    {
      "cell_type": "markdown",
      "metadata": {
        "id": "WE_29PGxbZ8I",
        "colab_type": "text"
      },
      "source": [
        "An example negative review..."
      ]
    },
    {
      "cell_type": "code",
      "metadata": {
        "id": "yF13dGXmawXG",
        "colab_type": "code",
        "colab": {}
      },
      "source": [
        "a=torch.tensor([[1,2,3],[0.3,5,5]])\n",
        "print(a.max(1))"
      ],
      "execution_count": 0,
      "outputs": []
    },
    {
      "cell_type": "code",
      "metadata": {
        "id": "FWAyorChbnlR",
        "colab_type": "code",
        "colab": {}
      },
      "source": [
        "TEXT.vocab.itos[VOCAB[141]]"
      ],
      "execution_count": 0,
      "outputs": []
    },
    {
      "cell_type": "code",
      "metadata": {
        "id": "T52zcQz27l-u",
        "colab_type": "code",
        "colab": {}
      },
      "source": [
        "model=model_loaded"
      ],
      "execution_count": 0,
      "outputs": []
    },
    {
      "cell_type": "code",
      "metadata": {
        "id": "rjqn-CWgBHxT",
        "colab_type": "code",
        "colab": {}
      },
      "source": [
        "predict_sentiment(model, \"I stumbled across this movie late at night on TV\")"
      ],
      "execution_count": 0,
      "outputs": []
    },
    {
      "cell_type": "code",
      "metadata": {
        "id": "-Wo53AD-BlpX",
        "colab_type": "code",
        "colab": {}
      },
      "source": [
        "predict_sentiment(model, \"monster great good bad\")"
      ],
      "execution_count": 0,
      "outputs": []
    },
    {
      "cell_type": "code",
      "metadata": {
        "id": "5EDZi63r8fq5",
        "colab_type": "code",
        "colab": {}
      },
      "source": [
        "predict_sentiment(model, \"This movie was so incredibly boring , Michael J. Fox could 've done so much better . Sorry , but it 's true for all you people who liked the movie\")"
      ],
      "execution_count": 0,
      "outputs": []
    },
    {
      "cell_type": "code",
      "metadata": {
        "id": "mQ7NDHUANC32",
        "colab_type": "code",
        "colab": {}
      },
      "source": [
        "predict_sentiment(model, \"pretty bad\")"
      ],
      "execution_count": 0,
      "outputs": []
    },
    {
      "cell_type": "code",
      "metadata": {
        "id": "IoG_uBpjbZ8I",
        "colab_type": "code",
        "colab": {}
      },
      "source": [
        "predict_sentiment(model, \"Pointless\")"
      ],
      "execution_count": 0,
      "outputs": []
    },
    {
      "cell_type": "code",
      "metadata": {
        "id": "X6ePuK2C9uef",
        "colab_type": "code",
        "colab": {}
      },
      "source": [
        "predict_sentiment(model, \"Pointless movie\")"
      ],
      "execution_count": 0,
      "outputs": []
    },
    {
      "cell_type": "markdown",
      "metadata": {
        "id": "3LZ-4U5LbZ8K",
        "colab_type": "text"
      },
      "source": [
        "An example positive review..."
      ]
    },
    {
      "cell_type": "code",
      "metadata": {
        "id": "AU8ZOO0Elruf",
        "colab_type": "code",
        "colab": {}
      },
      "source": [
        "predict_sentiment(model, \"glorious robust crucial\")"
      ],
      "execution_count": 0,
      "outputs": []
    },
    {
      "cell_type": "code",
      "metadata": {
        "id": "AhNHk7g0lXNY",
        "colab_type": "code",
        "colab": {}
      },
      "source": [
        "predict_sentiment(model, \"glorious\")"
      ],
      "execution_count": 0,
      "outputs": []
    },
    {
      "cell_type": "code",
      "metadata": {
        "id": "J8h883jZAju0",
        "colab_type": "code",
        "colab": {}
      },
      "source": [
        "predict_sentiment(model, \"This movie had terrible acting , terrible plot , and terrible choice of actors . ( Leslie Nielsen ... COME ON ! ! ! ) The one part I considered slightly funny was the battling FBI / CIA agents , but because the audience was mainly kids they did n't understand that theme .\")"
      ],
      "execution_count": 0,
      "outputs": []
    },
    {
      "cell_type": "code",
      "metadata": {
        "id": "996I5z3ClRBu",
        "colab_type": "code",
        "colab": {}
      },
      "source": [
        "predict_sentiment(model, \"This movie was thought to be low budget but it turned out to be awesome . I just rented it from blockbuster and i loved it . The acting was very good , hot women and some scary parts . It is plain and simply worth the money to pay for \")"
      ],
      "execution_count": 0,
      "outputs": []
    },
    {
      "cell_type": "code",
      "metadata": {
        "id": "ch9ltmvdbZ8L",
        "colab_type": "code",
        "colab": {}
      },
      "source": [
        "predict_sentiment(model, \"This film is great\")"
      ],
      "execution_count": 0,
      "outputs": []
    },
    {
      "cell_type": "markdown",
      "metadata": {
        "id": "bYWXfs_ebZ8M",
        "colab_type": "text"
      },
      "source": [
        "## Next Steps\n",
        "\n",
        "We've now built a decent sentiment analysis model for movie reviews! In the next notebook we'll implement a model that gets comparable accuracy with far fewer parameters and trains much, much faster."
      ]
    },
    {
      "cell_type": "code",
      "metadata": {
        "id": "_sNbOJQfWf5P",
        "colab_type": "code",
        "colab": {}
      },
      "source": [
        ""
      ],
      "execution_count": 0,
      "outputs": []
    }
  ]
}